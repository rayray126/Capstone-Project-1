{
 "cells": [
  {
   "cell_type": "markdown",
   "metadata": {},
   "source": [
    " # <span style =\"color:green;\"> <div align=\"center\"> CAPSTONE PROJECT </div> </span>"
   ]
  },
  {
   "cell_type": "markdown",
   "metadata": {},
   "source": [
    "# <span style='color:red;'> <div align = \"center\"> BUDGET ACCOMMODATION IN GHANA </div> </span>"
   ]
  },
  {
   "cell_type": "markdown",
   "metadata": {},
   "source": [
    "# <span style ='color:;' > Introduction:\n",
    "\n",
    "## Project Summary\n",
    "\n",
    "<span style =\"color:;\">This project is about accommodation system in Ghana. A key objective of this project is to provide opportunities to find out how safe and affordable the accommodation situation is in Ghana. The housing situation is believed to be far from the UN Sustainanble Development Goal (SDG Goal 11). As a result it would be very important to investigate the housing situation in Ghana and also provide an understandding of the housing situation. This insights from this project can be useful in making certain decision for people seeking accommodation in Ghana by providing a description of places in the country the provides the best options for budget accommodation.  </span><br>\n",
    "\n",
    "\n",
    "## Dataset Description:\n",
    "\n",
    "The dataset used in this project was scraped from an e-commerce website called [Meqasa](https://meqasa.com/houses-for-rent-in-ghana) that provide listings for various kinds of accommodation across the country.\n",
    "\n",
    "## Driving Goal:\n",
    "\n",
    "### <span style='color:red;'> Where in Ghana can you find the best options for budget accommodation? </span>\n",
    "\n"
   ]
  },
  {
   "cell_type": "markdown",
   "metadata": {},
   "source": [
    "."
   ]
  },
  {
   "cell_type": "code",
   "execution_count": 1,
   "metadata": {},
   "outputs": [],
   "source": [
    "# importing all Libraries needed.\n",
    "\n",
    "import numpy as np\n",
    "import pandas as pd\n",
    "import matplotlib.pyplot as plt\n",
    "import seaborn as sns\n",
    "%matplotlib inline\n",
    "from wordcloud import WordCloud\n",
    "\n",
    "\n",
    "import os.path"
   ]
  },
  {
   "cell_type": "markdown",
   "metadata": {},
   "source": [
    "## TASK 1 : DATA QUALITY ASSESSMENT\n",
    "\n",
    "### The goal here is to Assess the Quality of the dataset, Understand and Explore the Dataset  for this Project."
   ]
  },
  {
   "cell_type": "code",
   "execution_count": 2,
   "metadata": {},
   "outputs": [],
   "source": [
    "DATA =\"./data\"\n",
    "\n",
    "gh_housing = pd.read_csv(os.path.join(DATA, 'gh_accommodation.csv'), sep=',')"
   ]
  },
  {
   "cell_type": "code",
   "execution_count": 3,
   "metadata": {},
   "outputs": [
    {
     "data": {
      "text/html": [
       "<div>\n",
       "<style scoped>\n",
       "    .dataframe tbody tr th:only-of-type {\n",
       "        vertical-align: middle;\n",
       "    }\n",
       "\n",
       "    .dataframe tbody tr th {\n",
       "        vertical-align: top;\n",
       "    }\n",
       "\n",
       "    .dataframe thead th {\n",
       "        text-align: right;\n",
       "    }\n",
       "</style>\n",
       "<table border=\"1\" class=\"dataframe\">\n",
       "  <thead>\n",
       "    <tr style=\"text-align: right;\">\n",
       "      <th></th>\n",
       "      <th>web-scraper-order</th>\n",
       "      <th>web-scraper-start-url</th>\n",
       "      <th>property_type</th>\n",
       "      <th>property_type-href</th>\n",
       "      <th>property_name</th>\n",
       "      <th>prices</th>\n",
       "      <th>categories</th>\n",
       "      <th>commission</th>\n",
       "      <th>bedrooms</th>\n",
       "      <th>bathrooms</th>\n",
       "      <th>garage</th>\n",
       "      <th>amenities</th>\n",
       "      <th>address</th>\n",
       "      <th>area</th>\n",
       "    </tr>\n",
       "  </thead>\n",
       "  <tbody>\n",
       "    <tr>\n",
       "      <td>0</td>\n",
       "      <td>1606914742-2139</td>\n",
       "      <td>https://meqasa.com/houses-for-rent-in-ghana?w=378</td>\n",
       "      <td>Read more</td>\n",
       "      <td>https://meqasa.com/apartment-for-rent-at-null-...</td>\n",
       "      <td>2 bedroom furnished apartment for rent at null...</td>\n",
       "      <td>GH₵ 13,597</td>\n",
       "      <td>Apartment for Rent\\n\\nApartment for Rent in nu...</td>\n",
       "      <td>10.00%</td>\n",
       "      <td>2.0</td>\n",
       "      <td>2.0</td>\n",
       "      <td>NaN</td>\n",
       "      <td>Kitchen cabinets\\nClosets\\nCooker\\nKitchen\\nSw...</td>\n",
       "      <td>null Area</td>\n",
       "      <td>900 m2</td>\n",
       "    </tr>\n",
       "    <tr>\n",
       "      <td>1</td>\n",
       "      <td>1606911658-1793</td>\n",
       "      <td>https://meqasa.com/houses-for-rent-in-ghana?w=400</td>\n",
       "      <td>Read more</td>\n",
       "      <td>https://meqasa.com/apartment-for-rent-at-East-...</td>\n",
       "      <td>3 bedroom apartment for rent at East Legon - T...</td>\n",
       "      <td>GH₵ 4,351</td>\n",
       "      <td>Apartment for Rent\\n\\nApartment for Rent in Ea...</td>\n",
       "      <td>10.00%</td>\n",
       "      <td>3.0</td>\n",
       "      <td>4.0</td>\n",
       "      <td>2.0</td>\n",
       "      <td>Air conditioning\\nCooker\\nWashing machine\\nFan...</td>\n",
       "      <td>East Legon</td>\n",
       "      <td>1,000 m2</td>\n",
       "    </tr>\n",
       "    <tr>\n",
       "      <td>2</td>\n",
       "      <td>1606914102-2071</td>\n",
       "      <td>https://meqasa.com/houses-for-rent-in-ghana?w=382</td>\n",
       "      <td>Read more</td>\n",
       "      <td>https://meqasa.com/house-for-rent-at-East-Lego...</td>\n",
       "      <td>3 bedroom house for rent at East Legon</td>\n",
       "      <td>GH₵ 3,807</td>\n",
       "      <td>House for Rent\\n\\nHouse for Rent in East Legon</td>\n",
       "      <td>10.00%</td>\n",
       "      <td>3.0</td>\n",
       "      <td>2.0</td>\n",
       "      <td>0.0</td>\n",
       "      <td>Air conditioning\\nCooker\\nInternet\\nGarden\\nGa...</td>\n",
       "      <td>East Legon</td>\n",
       "      <td>NaN</td>\n",
       "    </tr>\n",
       "    <tr>\n",
       "      <td>3</td>\n",
       "      <td>1606920486-2553</td>\n",
       "      <td>https://meqasa.com/houses-for-rent-in-ghana?w=345</td>\n",
       "      <td>Read more</td>\n",
       "      <td>https://meqasa.com/house-for-rent-at-East-Lego...</td>\n",
       "      <td>2 bedroom furnished house for rent at East Legon</td>\n",
       "      <td>GH₵ 5,300</td>\n",
       "      <td>House for Rent\\n\\nHouse for Rent in East Legon</td>\n",
       "      <td>10.00%</td>\n",
       "      <td>2.0</td>\n",
       "      <td>3.0</td>\n",
       "      <td>2.0</td>\n",
       "      <td>Air conditioning\\nCooker\\nWashing machine\\nFan...</td>\n",
       "      <td>East Legon</td>\n",
       "      <td>900 m2</td>\n",
       "    </tr>\n",
       "    <tr>\n",
       "      <td>4</td>\n",
       "      <td>1606920129-2535</td>\n",
       "      <td>https://meqasa.com/houses-for-rent-in-ghana?w=346</td>\n",
       "      <td>Read more</td>\n",
       "      <td>https://meqasa.com/house-for-rent-at-Ashongman...</td>\n",
       "      <td>4 bedroom house for rent at Ashongman</td>\n",
       "      <td>GH₵ 3,000</td>\n",
       "      <td>House for Rent\\n\\nHouse for Rent in Ashongman</td>\n",
       "      <td>10.00%</td>\n",
       "      <td>4.0</td>\n",
       "      <td>1.0</td>\n",
       "      <td>0.0</td>\n",
       "      <td>Water reservoir</td>\n",
       "      <td>Ashongman</td>\n",
       "      <td>NaN</td>\n",
       "    </tr>\n",
       "    <tr>\n",
       "      <td>...</td>\n",
       "      <td>...</td>\n",
       "      <td>...</td>\n",
       "      <td>...</td>\n",
       "      <td>...</td>\n",
       "      <td>...</td>\n",
       "      <td>...</td>\n",
       "      <td>...</td>\n",
       "      <td>...</td>\n",
       "      <td>...</td>\n",
       "      <td>...</td>\n",
       "      <td>...</td>\n",
       "      <td>...</td>\n",
       "      <td>...</td>\n",
       "      <td>...</td>\n",
       "    </tr>\n",
       "    <tr>\n",
       "      <td>2068</td>\n",
       "      <td>1607342987-21</td>\n",
       "      <td>https://meqasa.com/houses-for-rent-in-Ashanti-...</td>\n",
       "      <td>Read more</td>\n",
       "      <td>https://meqasa.com/house-for-rent-at-Bomso-Roa...</td>\n",
       "      <td>5 bedroom house for rent at Bomso Road</td>\n",
       "      <td>GH₵ 5,000</td>\n",
       "      <td>House for Rent\\n\\nHouse for Rent in Bomso</td>\n",
       "      <td>10.00%</td>\n",
       "      <td>5.0</td>\n",
       "      <td>5.0</td>\n",
       "      <td>0.0</td>\n",
       "      <td>Water reservoir</td>\n",
       "      <td>Bomso Road</td>\n",
       "      <td>300 m2</td>\n",
       "    </tr>\n",
       "    <tr>\n",
       "      <td>2069</td>\n",
       "      <td>1607342984-20</td>\n",
       "      <td>https://meqasa.com/houses-for-rent-in-Ashanti-...</td>\n",
       "      <td>Read more</td>\n",
       "      <td>https://meqasa.com/house-for-rent-at-Santasi-0...</td>\n",
       "      <td>6 bedroom house for rent at Santasi</td>\n",
       "      <td>GH₵ 3,000</td>\n",
       "      <td>House for Rent\\n\\nHouse for Rent in Santasi</td>\n",
       "      <td>10.00%</td>\n",
       "      <td>6.0</td>\n",
       "      <td>6.0</td>\n",
       "      <td>0.0</td>\n",
       "      <td>Water reservoir</td>\n",
       "      <td>Santasi</td>\n",
       "      <td>300 m2</td>\n",
       "    </tr>\n",
       "    <tr>\n",
       "      <td>2070</td>\n",
       "      <td>1607342981-19</td>\n",
       "      <td>https://meqasa.com/houses-for-rent-in-Ashanti-...</td>\n",
       "      <td>Read more</td>\n",
       "      <td>https://meqasa.com/house-for-rent-at-Kumasi-06...</td>\n",
       "      <td>4 bedroom house for rent at Kumasi</td>\n",
       "      <td>GH₵ 700</td>\n",
       "      <td>House for Rent\\n\\nHouse for Rent in Kumasi</td>\n",
       "      <td>10.00%</td>\n",
       "      <td>4.0</td>\n",
       "      <td>2.0</td>\n",
       "      <td>0.0</td>\n",
       "      <td>Air Conditioning</td>\n",
       "      <td>Kumasi</td>\n",
       "      <td>200 m2</td>\n",
       "    </tr>\n",
       "    <tr>\n",
       "      <td>2071</td>\n",
       "      <td>1607342992-23</td>\n",
       "      <td>https://meqasa.com/houses-for-rent-in-Ashanti-...</td>\n",
       "      <td>Read more</td>\n",
       "      <td>https://meqasa.com/house-for-rent-at-Kotwi-067...</td>\n",
       "      <td>5 bedroom house for rent at Kotwi</td>\n",
       "      <td>GH₵ 1,500</td>\n",
       "      <td>House for Rent\\n\\nHouse for Rent in Kotwi</td>\n",
       "      <td>10.00%</td>\n",
       "      <td>5.0</td>\n",
       "      <td>5.0</td>\n",
       "      <td>0.0</td>\n",
       "      <td>Air Conditioning</td>\n",
       "      <td>Kotwi</td>\n",
       "      <td>300 m2</td>\n",
       "    </tr>\n",
       "    <tr>\n",
       "      <td>2072</td>\n",
       "      <td>1607342978-18</td>\n",
       "      <td>https://meqasa.com/houses-for-rent-in-Ashanti-...</td>\n",
       "      <td>Read more</td>\n",
       "      <td>https://meqasa.com/house-for-rent-at-Adjiringa...</td>\n",
       "      <td>5 bedroom furnished house for rent at Adjiring...</td>\n",
       "      <td>GH₵ 30,000</td>\n",
       "      <td>House for Rent\\n\\nHouse for Rent in Adjiringanor</td>\n",
       "      <td>10.00%</td>\n",
       "      <td>5.0</td>\n",
       "      <td>6.0</td>\n",
       "      <td>1.0</td>\n",
       "      <td>Air conditioning\\nCooker\\nWashing machine\\nFan...</td>\n",
       "      <td>Adjiringanor</td>\n",
       "      <td>300 m2</td>\n",
       "    </tr>\n",
       "  </tbody>\n",
       "</table>\n",
       "<p>2073 rows × 14 columns</p>\n",
       "</div>"
      ],
      "text/plain": [
       "     web-scraper-order                              web-scraper-start-url  \\\n",
       "0      1606914742-2139  https://meqasa.com/houses-for-rent-in-ghana?w=378   \n",
       "1      1606911658-1793  https://meqasa.com/houses-for-rent-in-ghana?w=400   \n",
       "2      1606914102-2071  https://meqasa.com/houses-for-rent-in-ghana?w=382   \n",
       "3      1606920486-2553  https://meqasa.com/houses-for-rent-in-ghana?w=345   \n",
       "4      1606920129-2535  https://meqasa.com/houses-for-rent-in-ghana?w=346   \n",
       "...                ...                                                ...   \n",
       "2068     1607342987-21  https://meqasa.com/houses-for-rent-in-Ashanti-...   \n",
       "2069     1607342984-20  https://meqasa.com/houses-for-rent-in-Ashanti-...   \n",
       "2070     1607342981-19  https://meqasa.com/houses-for-rent-in-Ashanti-...   \n",
       "2071     1607342992-23  https://meqasa.com/houses-for-rent-in-Ashanti-...   \n",
       "2072     1607342978-18  https://meqasa.com/houses-for-rent-in-Ashanti-...   \n",
       "\n",
       "     property_type                                 property_type-href  \\\n",
       "0        Read more  https://meqasa.com/apartment-for-rent-at-null-...   \n",
       "1        Read more  https://meqasa.com/apartment-for-rent-at-East-...   \n",
       "2        Read more  https://meqasa.com/house-for-rent-at-East-Lego...   \n",
       "3        Read more  https://meqasa.com/house-for-rent-at-East-Lego...   \n",
       "4        Read more  https://meqasa.com/house-for-rent-at-Ashongman...   \n",
       "...            ...                                                ...   \n",
       "2068     Read more  https://meqasa.com/house-for-rent-at-Bomso-Roa...   \n",
       "2069     Read more  https://meqasa.com/house-for-rent-at-Santasi-0...   \n",
       "2070     Read more  https://meqasa.com/house-for-rent-at-Kumasi-06...   \n",
       "2071     Read more  https://meqasa.com/house-for-rent-at-Kotwi-067...   \n",
       "2072     Read more  https://meqasa.com/house-for-rent-at-Adjiringa...   \n",
       "\n",
       "                                          property_name      prices  \\\n",
       "0     2 bedroom furnished apartment for rent at null...  GH₵ 13,597   \n",
       "1     3 bedroom apartment for rent at East Legon - T...   GH₵ 4,351   \n",
       "2                3 bedroom house for rent at East Legon   GH₵ 3,807   \n",
       "3      2 bedroom furnished house for rent at East Legon   GH₵ 5,300   \n",
       "4                 4 bedroom house for rent at Ashongman   GH₵ 3,000   \n",
       "...                                                 ...         ...   \n",
       "2068             5 bedroom house for rent at Bomso Road   GH₵ 5,000   \n",
       "2069                6 bedroom house for rent at Santasi   GH₵ 3,000   \n",
       "2070                 4 bedroom house for rent at Kumasi     GH₵ 700   \n",
       "2071                  5 bedroom house for rent at Kotwi   GH₵ 1,500   \n",
       "2072  5 bedroom furnished house for rent at Adjiring...  GH₵ 30,000   \n",
       "\n",
       "                                             categories commission  bedrooms  \\\n",
       "0     Apartment for Rent\\n\\nApartment for Rent in nu...     10.00%       2.0   \n",
       "1     Apartment for Rent\\n\\nApartment for Rent in Ea...     10.00%       3.0   \n",
       "2        House for Rent\\n\\nHouse for Rent in East Legon     10.00%       3.0   \n",
       "3        House for Rent\\n\\nHouse for Rent in East Legon     10.00%       2.0   \n",
       "4         House for Rent\\n\\nHouse for Rent in Ashongman     10.00%       4.0   \n",
       "...                                                 ...        ...       ...   \n",
       "2068          House for Rent\\n\\nHouse for Rent in Bomso     10.00%       5.0   \n",
       "2069        House for Rent\\n\\nHouse for Rent in Santasi     10.00%       6.0   \n",
       "2070         House for Rent\\n\\nHouse for Rent in Kumasi     10.00%       4.0   \n",
       "2071          House for Rent\\n\\nHouse for Rent in Kotwi     10.00%       5.0   \n",
       "2072   House for Rent\\n\\nHouse for Rent in Adjiringanor     10.00%       5.0   \n",
       "\n",
       "      bathrooms  garage                                          amenities  \\\n",
       "0           2.0     NaN  Kitchen cabinets\\nClosets\\nCooker\\nKitchen\\nSw...   \n",
       "1           4.0     2.0  Air conditioning\\nCooker\\nWashing machine\\nFan...   \n",
       "2           2.0     0.0  Air conditioning\\nCooker\\nInternet\\nGarden\\nGa...   \n",
       "3           3.0     2.0  Air conditioning\\nCooker\\nWashing machine\\nFan...   \n",
       "4           1.0     0.0                                    Water reservoir   \n",
       "...         ...     ...                                                ...   \n",
       "2068        5.0     0.0                                    Water reservoir   \n",
       "2069        6.0     0.0                                    Water reservoir   \n",
       "2070        2.0     0.0                                   Air Conditioning   \n",
       "2071        5.0     0.0                                   Air Conditioning   \n",
       "2072        6.0     1.0  Air conditioning\\nCooker\\nWashing machine\\nFan...   \n",
       "\n",
       "           address      area  \n",
       "0        null Area    900 m2  \n",
       "1       East Legon  1,000 m2  \n",
       "2       East Legon       NaN  \n",
       "3       East Legon    900 m2  \n",
       "4        Ashongman       NaN  \n",
       "...            ...       ...  \n",
       "2068    Bomso Road   300 m2   \n",
       "2069       Santasi   300 m2   \n",
       "2070        Kumasi    200 m2  \n",
       "2071         Kotwi   300 m2   \n",
       "2072  Adjiringanor   300 m2   \n",
       "\n",
       "[2073 rows x 14 columns]"
      ]
     },
     "execution_count": 3,
     "metadata": {},
     "output_type": "execute_result"
    }
   ],
   "source": [
    "gh_housing"
   ]
  },
  {
   "cell_type": "markdown",
   "metadata": {},
   "source": [
    "\n",
    "The Housing dataset scraped from Meqasa contains **2073** entries and **14** features/columns."
   ]
  },
  {
   "cell_type": "code",
   "execution_count": 4,
   "metadata": {},
   "outputs": [
    {
     "data": {
      "text/html": [
       "<div>\n",
       "<style scoped>\n",
       "    .dataframe tbody tr th:only-of-type {\n",
       "        vertical-align: middle;\n",
       "    }\n",
       "\n",
       "    .dataframe tbody tr th {\n",
       "        vertical-align: top;\n",
       "    }\n",
       "\n",
       "    .dataframe thead th {\n",
       "        text-align: right;\n",
       "    }\n",
       "</style>\n",
       "<table border=\"1\" class=\"dataframe\">\n",
       "  <thead>\n",
       "    <tr style=\"text-align: right;\">\n",
       "      <th></th>\n",
       "      <th>web-scraper-order</th>\n",
       "      <th>web-scraper-start-url</th>\n",
       "      <th>property_type</th>\n",
       "      <th>property_type-href</th>\n",
       "      <th>property_name</th>\n",
       "      <th>prices</th>\n",
       "      <th>categories</th>\n",
       "      <th>commission</th>\n",
       "      <th>bedrooms</th>\n",
       "      <th>bathrooms</th>\n",
       "      <th>garage</th>\n",
       "      <th>amenities</th>\n",
       "      <th>address</th>\n",
       "      <th>area</th>\n",
       "    </tr>\n",
       "  </thead>\n",
       "  <tbody>\n",
       "    <tr>\n",
       "      <td>0</td>\n",
       "      <td>1606914742-2139</td>\n",
       "      <td>https://meqasa.com/houses-for-rent-in-ghana?w=378</td>\n",
       "      <td>Read more</td>\n",
       "      <td>https://meqasa.com/apartment-for-rent-at-null-...</td>\n",
       "      <td>2 bedroom furnished apartment for rent at null...</td>\n",
       "      <td>GH₵ 13,597</td>\n",
       "      <td>Apartment for Rent\\n\\nApartment for Rent in nu...</td>\n",
       "      <td>10.00%</td>\n",
       "      <td>2.0</td>\n",
       "      <td>2.0</td>\n",
       "      <td>NaN</td>\n",
       "      <td>Kitchen cabinets\\nClosets\\nCooker\\nKitchen\\nSw...</td>\n",
       "      <td>null Area</td>\n",
       "      <td>900 m2</td>\n",
       "    </tr>\n",
       "    <tr>\n",
       "      <td>1</td>\n",
       "      <td>1606911658-1793</td>\n",
       "      <td>https://meqasa.com/houses-for-rent-in-ghana?w=400</td>\n",
       "      <td>Read more</td>\n",
       "      <td>https://meqasa.com/apartment-for-rent-at-East-...</td>\n",
       "      <td>3 bedroom apartment for rent at East Legon - T...</td>\n",
       "      <td>GH₵ 4,351</td>\n",
       "      <td>Apartment for Rent\\n\\nApartment for Rent in Ea...</td>\n",
       "      <td>10.00%</td>\n",
       "      <td>3.0</td>\n",
       "      <td>4.0</td>\n",
       "      <td>2.0</td>\n",
       "      <td>Air conditioning\\nCooker\\nWashing machine\\nFan...</td>\n",
       "      <td>East Legon</td>\n",
       "      <td>1,000 m2</td>\n",
       "    </tr>\n",
       "    <tr>\n",
       "      <td>2</td>\n",
       "      <td>1606914102-2071</td>\n",
       "      <td>https://meqasa.com/houses-for-rent-in-ghana?w=382</td>\n",
       "      <td>Read more</td>\n",
       "      <td>https://meqasa.com/house-for-rent-at-East-Lego...</td>\n",
       "      <td>3 bedroom house for rent at East Legon</td>\n",
       "      <td>GH₵ 3,807</td>\n",
       "      <td>House for Rent\\n\\nHouse for Rent in East Legon</td>\n",
       "      <td>10.00%</td>\n",
       "      <td>3.0</td>\n",
       "      <td>2.0</td>\n",
       "      <td>0.0</td>\n",
       "      <td>Air conditioning\\nCooker\\nInternet\\nGarden\\nGa...</td>\n",
       "      <td>East Legon</td>\n",
       "      <td>NaN</td>\n",
       "    </tr>\n",
       "    <tr>\n",
       "      <td>3</td>\n",
       "      <td>1606920486-2553</td>\n",
       "      <td>https://meqasa.com/houses-for-rent-in-ghana?w=345</td>\n",
       "      <td>Read more</td>\n",
       "      <td>https://meqasa.com/house-for-rent-at-East-Lego...</td>\n",
       "      <td>2 bedroom furnished house for rent at East Legon</td>\n",
       "      <td>GH₵ 5,300</td>\n",
       "      <td>House for Rent\\n\\nHouse for Rent in East Legon</td>\n",
       "      <td>10.00%</td>\n",
       "      <td>2.0</td>\n",
       "      <td>3.0</td>\n",
       "      <td>2.0</td>\n",
       "      <td>Air conditioning\\nCooker\\nWashing machine\\nFan...</td>\n",
       "      <td>East Legon</td>\n",
       "      <td>900 m2</td>\n",
       "    </tr>\n",
       "    <tr>\n",
       "      <td>4</td>\n",
       "      <td>1606920129-2535</td>\n",
       "      <td>https://meqasa.com/houses-for-rent-in-ghana?w=346</td>\n",
       "      <td>Read more</td>\n",
       "      <td>https://meqasa.com/house-for-rent-at-Ashongman...</td>\n",
       "      <td>4 bedroom house for rent at Ashongman</td>\n",
       "      <td>GH₵ 3,000</td>\n",
       "      <td>House for Rent\\n\\nHouse for Rent in Ashongman</td>\n",
       "      <td>10.00%</td>\n",
       "      <td>4.0</td>\n",
       "      <td>1.0</td>\n",
       "      <td>0.0</td>\n",
       "      <td>Water reservoir</td>\n",
       "      <td>Ashongman</td>\n",
       "      <td>NaN</td>\n",
       "    </tr>\n",
       "  </tbody>\n",
       "</table>\n",
       "</div>"
      ],
      "text/plain": [
       "  web-scraper-order                              web-scraper-start-url  \\\n",
       "0   1606914742-2139  https://meqasa.com/houses-for-rent-in-ghana?w=378   \n",
       "1   1606911658-1793  https://meqasa.com/houses-for-rent-in-ghana?w=400   \n",
       "2   1606914102-2071  https://meqasa.com/houses-for-rent-in-ghana?w=382   \n",
       "3   1606920486-2553  https://meqasa.com/houses-for-rent-in-ghana?w=345   \n",
       "4   1606920129-2535  https://meqasa.com/houses-for-rent-in-ghana?w=346   \n",
       "\n",
       "  property_type                                 property_type-href  \\\n",
       "0     Read more  https://meqasa.com/apartment-for-rent-at-null-...   \n",
       "1     Read more  https://meqasa.com/apartment-for-rent-at-East-...   \n",
       "2     Read more  https://meqasa.com/house-for-rent-at-East-Lego...   \n",
       "3     Read more  https://meqasa.com/house-for-rent-at-East-Lego...   \n",
       "4     Read more  https://meqasa.com/house-for-rent-at-Ashongman...   \n",
       "\n",
       "                                       property_name      prices  \\\n",
       "0  2 bedroom furnished apartment for rent at null...  GH₵ 13,597   \n",
       "1  3 bedroom apartment for rent at East Legon - T...   GH₵ 4,351   \n",
       "2             3 bedroom house for rent at East Legon   GH₵ 3,807   \n",
       "3   2 bedroom furnished house for rent at East Legon   GH₵ 5,300   \n",
       "4              4 bedroom house for rent at Ashongman   GH₵ 3,000   \n",
       "\n",
       "                                          categories commission  bedrooms  \\\n",
       "0  Apartment for Rent\\n\\nApartment for Rent in nu...     10.00%       2.0   \n",
       "1  Apartment for Rent\\n\\nApartment for Rent in Ea...     10.00%       3.0   \n",
       "2     House for Rent\\n\\nHouse for Rent in East Legon     10.00%       3.0   \n",
       "3     House for Rent\\n\\nHouse for Rent in East Legon     10.00%       2.0   \n",
       "4      House for Rent\\n\\nHouse for Rent in Ashongman     10.00%       4.0   \n",
       "\n",
       "   bathrooms  garage                                          amenities  \\\n",
       "0        2.0     NaN  Kitchen cabinets\\nClosets\\nCooker\\nKitchen\\nSw...   \n",
       "1        4.0     2.0  Air conditioning\\nCooker\\nWashing machine\\nFan...   \n",
       "2        2.0     0.0  Air conditioning\\nCooker\\nInternet\\nGarden\\nGa...   \n",
       "3        3.0     2.0  Air conditioning\\nCooker\\nWashing machine\\nFan...   \n",
       "4        1.0     0.0                                    Water reservoir   \n",
       "\n",
       "      address      area  \n",
       "0   null Area    900 m2  \n",
       "1  East Legon  1,000 m2  \n",
       "2  East Legon       NaN  \n",
       "3  East Legon    900 m2  \n",
       "4   Ashongman       NaN  "
      ]
     },
     "execution_count": 4,
     "metadata": {},
     "output_type": "execute_result"
    }
   ],
   "source": [
    "gh_housing.head()"
   ]
  },
  {
   "cell_type": "code",
   "execution_count": 5,
   "metadata": {},
   "outputs": [
    {
     "data": {
      "text/html": [
       "<div>\n",
       "<style scoped>\n",
       "    .dataframe tbody tr th:only-of-type {\n",
       "        vertical-align: middle;\n",
       "    }\n",
       "\n",
       "    .dataframe tbody tr th {\n",
       "        vertical-align: top;\n",
       "    }\n",
       "\n",
       "    .dataframe thead th {\n",
       "        text-align: right;\n",
       "    }\n",
       "</style>\n",
       "<table border=\"1\" class=\"dataframe\">\n",
       "  <thead>\n",
       "    <tr style=\"text-align: right;\">\n",
       "      <th></th>\n",
       "      <th>web-scraper-order</th>\n",
       "      <th>web-scraper-start-url</th>\n",
       "      <th>property_type</th>\n",
       "      <th>property_type-href</th>\n",
       "      <th>property_name</th>\n",
       "      <th>prices</th>\n",
       "      <th>categories</th>\n",
       "      <th>commission</th>\n",
       "      <th>bedrooms</th>\n",
       "      <th>bathrooms</th>\n",
       "      <th>garage</th>\n",
       "      <th>amenities</th>\n",
       "      <th>address</th>\n",
       "      <th>area</th>\n",
       "    </tr>\n",
       "  </thead>\n",
       "  <tbody>\n",
       "    <tr>\n",
       "      <td>2068</td>\n",
       "      <td>1607342987-21</td>\n",
       "      <td>https://meqasa.com/houses-for-rent-in-Ashanti-...</td>\n",
       "      <td>Read more</td>\n",
       "      <td>https://meqasa.com/house-for-rent-at-Bomso-Roa...</td>\n",
       "      <td>5 bedroom house for rent at Bomso Road</td>\n",
       "      <td>GH₵ 5,000</td>\n",
       "      <td>House for Rent\\n\\nHouse for Rent in Bomso</td>\n",
       "      <td>10.00%</td>\n",
       "      <td>5.0</td>\n",
       "      <td>5.0</td>\n",
       "      <td>0.0</td>\n",
       "      <td>Water reservoir</td>\n",
       "      <td>Bomso Road</td>\n",
       "      <td>300 m2</td>\n",
       "    </tr>\n",
       "    <tr>\n",
       "      <td>2069</td>\n",
       "      <td>1607342984-20</td>\n",
       "      <td>https://meqasa.com/houses-for-rent-in-Ashanti-...</td>\n",
       "      <td>Read more</td>\n",
       "      <td>https://meqasa.com/house-for-rent-at-Santasi-0...</td>\n",
       "      <td>6 bedroom house for rent at Santasi</td>\n",
       "      <td>GH₵ 3,000</td>\n",
       "      <td>House for Rent\\n\\nHouse for Rent in Santasi</td>\n",
       "      <td>10.00%</td>\n",
       "      <td>6.0</td>\n",
       "      <td>6.0</td>\n",
       "      <td>0.0</td>\n",
       "      <td>Water reservoir</td>\n",
       "      <td>Santasi</td>\n",
       "      <td>300 m2</td>\n",
       "    </tr>\n",
       "    <tr>\n",
       "      <td>2070</td>\n",
       "      <td>1607342981-19</td>\n",
       "      <td>https://meqasa.com/houses-for-rent-in-Ashanti-...</td>\n",
       "      <td>Read more</td>\n",
       "      <td>https://meqasa.com/house-for-rent-at-Kumasi-06...</td>\n",
       "      <td>4 bedroom house for rent at Kumasi</td>\n",
       "      <td>GH₵ 700</td>\n",
       "      <td>House for Rent\\n\\nHouse for Rent in Kumasi</td>\n",
       "      <td>10.00%</td>\n",
       "      <td>4.0</td>\n",
       "      <td>2.0</td>\n",
       "      <td>0.0</td>\n",
       "      <td>Air Conditioning</td>\n",
       "      <td>Kumasi</td>\n",
       "      <td>200 m2</td>\n",
       "    </tr>\n",
       "    <tr>\n",
       "      <td>2071</td>\n",
       "      <td>1607342992-23</td>\n",
       "      <td>https://meqasa.com/houses-for-rent-in-Ashanti-...</td>\n",
       "      <td>Read more</td>\n",
       "      <td>https://meqasa.com/house-for-rent-at-Kotwi-067...</td>\n",
       "      <td>5 bedroom house for rent at Kotwi</td>\n",
       "      <td>GH₵ 1,500</td>\n",
       "      <td>House for Rent\\n\\nHouse for Rent in Kotwi</td>\n",
       "      <td>10.00%</td>\n",
       "      <td>5.0</td>\n",
       "      <td>5.0</td>\n",
       "      <td>0.0</td>\n",
       "      <td>Air Conditioning</td>\n",
       "      <td>Kotwi</td>\n",
       "      <td>300 m2</td>\n",
       "    </tr>\n",
       "    <tr>\n",
       "      <td>2072</td>\n",
       "      <td>1607342978-18</td>\n",
       "      <td>https://meqasa.com/houses-for-rent-in-Ashanti-...</td>\n",
       "      <td>Read more</td>\n",
       "      <td>https://meqasa.com/house-for-rent-at-Adjiringa...</td>\n",
       "      <td>5 bedroom furnished house for rent at Adjiring...</td>\n",
       "      <td>GH₵ 30,000</td>\n",
       "      <td>House for Rent\\n\\nHouse for Rent in Adjiringanor</td>\n",
       "      <td>10.00%</td>\n",
       "      <td>5.0</td>\n",
       "      <td>6.0</td>\n",
       "      <td>1.0</td>\n",
       "      <td>Air conditioning\\nCooker\\nWashing machine\\nFan...</td>\n",
       "      <td>Adjiringanor</td>\n",
       "      <td>300 m2</td>\n",
       "    </tr>\n",
       "  </tbody>\n",
       "</table>\n",
       "</div>"
      ],
      "text/plain": [
       "     web-scraper-order                              web-scraper-start-url  \\\n",
       "2068     1607342987-21  https://meqasa.com/houses-for-rent-in-Ashanti-...   \n",
       "2069     1607342984-20  https://meqasa.com/houses-for-rent-in-Ashanti-...   \n",
       "2070     1607342981-19  https://meqasa.com/houses-for-rent-in-Ashanti-...   \n",
       "2071     1607342992-23  https://meqasa.com/houses-for-rent-in-Ashanti-...   \n",
       "2072     1607342978-18  https://meqasa.com/houses-for-rent-in-Ashanti-...   \n",
       "\n",
       "     property_type                                 property_type-href  \\\n",
       "2068     Read more  https://meqasa.com/house-for-rent-at-Bomso-Roa...   \n",
       "2069     Read more  https://meqasa.com/house-for-rent-at-Santasi-0...   \n",
       "2070     Read more  https://meqasa.com/house-for-rent-at-Kumasi-06...   \n",
       "2071     Read more  https://meqasa.com/house-for-rent-at-Kotwi-067...   \n",
       "2072     Read more  https://meqasa.com/house-for-rent-at-Adjiringa...   \n",
       "\n",
       "                                          property_name      prices  \\\n",
       "2068             5 bedroom house for rent at Bomso Road   GH₵ 5,000   \n",
       "2069                6 bedroom house for rent at Santasi   GH₵ 3,000   \n",
       "2070                 4 bedroom house for rent at Kumasi     GH₵ 700   \n",
       "2071                  5 bedroom house for rent at Kotwi   GH₵ 1,500   \n",
       "2072  5 bedroom furnished house for rent at Adjiring...  GH₵ 30,000   \n",
       "\n",
       "                                            categories commission  bedrooms  \\\n",
       "2068         House for Rent\\n\\nHouse for Rent in Bomso     10.00%       5.0   \n",
       "2069       House for Rent\\n\\nHouse for Rent in Santasi     10.00%       6.0   \n",
       "2070        House for Rent\\n\\nHouse for Rent in Kumasi     10.00%       4.0   \n",
       "2071         House for Rent\\n\\nHouse for Rent in Kotwi     10.00%       5.0   \n",
       "2072  House for Rent\\n\\nHouse for Rent in Adjiringanor     10.00%       5.0   \n",
       "\n",
       "      bathrooms  garage                                          amenities  \\\n",
       "2068        5.0     0.0                                    Water reservoir   \n",
       "2069        6.0     0.0                                    Water reservoir   \n",
       "2070        2.0     0.0                                   Air Conditioning   \n",
       "2071        5.0     0.0                                   Air Conditioning   \n",
       "2072        6.0     1.0  Air conditioning\\nCooker\\nWashing machine\\nFan...   \n",
       "\n",
       "           address     area  \n",
       "2068    Bomso Road  300 m2   \n",
       "2069       Santasi  300 m2   \n",
       "2070        Kumasi   200 m2  \n",
       "2071         Kotwi  300 m2   \n",
       "2072  Adjiringanor  300 m2   "
      ]
     },
     "execution_count": 5,
     "metadata": {},
     "output_type": "execute_result"
    }
   ],
   "source": [
    "gh_housing.tail()"
   ]
  },
  {
   "cell_type": "code",
   "execution_count": 6,
   "metadata": {},
   "outputs": [
    {
     "name": "stdout",
     "output_type": "stream",
     "text": [
      "Data Types: \n",
      " object     11\n",
      "float64     3\n",
      "dtype: int64\n"
     ]
    }
   ],
   "source": [
    "print(f\"Data Types: \\n {gh_housing.dtypes.value_counts()}\")"
   ]
  },
  {
   "cell_type": "code",
   "execution_count": 7,
   "metadata": {},
   "outputs": [
    {
     "name": "stdout",
     "output_type": "stream",
     "text": [
      "<class 'pandas.core.frame.DataFrame'>\n",
      "RangeIndex: 2073 entries, 0 to 2072\n",
      "Data columns (total 14 columns):\n",
      "web-scraper-order        2073 non-null object\n",
      "web-scraper-start-url    2073 non-null object\n",
      "property_type            2073 non-null object\n",
      "property_type-href       2073 non-null object\n",
      "property_name            2072 non-null object\n",
      "prices                   2053 non-null object\n",
      "categories               2073 non-null object\n",
      "commission               1582 non-null object\n",
      "bedrooms                 2072 non-null float64\n",
      "bathrooms                2057 non-null float64\n",
      "garage                   2036 non-null float64\n",
      "amenities                2073 non-null object\n",
      "address                  2039 non-null object\n",
      "area                     1276 non-null object\n",
      "dtypes: float64(3), object(11)\n",
      "memory usage: 226.9+ KB\n"
     ]
    }
   ],
   "source": [
    "# Inspecting the datasets for number of rows, columns, and datatypes\n",
    "\n",
    "gh_housing.info()"
   ]
  },
  {
   "cell_type": "markdown",
   "metadata": {},
   "source": [
    "It can be seen from the above that some columns needed for analysis needs to be cleaned and transformed to their right datatypes."
   ]
  },
  {
   "cell_type": "code",
   "execution_count": 8,
   "metadata": {},
   "outputs": [
    {
     "data": {
      "text/plain": [
       "web-scraper-order          0\n",
       "web-scraper-start-url      0\n",
       "property_type              0\n",
       "property_type-href         0\n",
       "property_name              1\n",
       "prices                    20\n",
       "categories                 0\n",
       "commission               491\n",
       "bedrooms                   1\n",
       "bathrooms                 16\n",
       "garage                    37\n",
       "amenities                  0\n",
       "address                   34\n",
       "area                     797\n",
       "dtype: int64"
      ]
     },
     "execution_count": 8,
     "metadata": {},
     "output_type": "execute_result"
    }
   ],
   "source": [
    "# checking for total of null values for each column.\n",
    "\n",
    "gh_housing.isnull().sum()"
   ]
  },
  {
   "cell_type": "markdown",
   "metadata": {},
   "source": [
    "Most columns needed for analysis contains missing values and hence would be cleaned below"
   ]
  },
  {
   "cell_type": "code",
   "execution_count": 9,
   "metadata": {},
   "outputs": [
    {
     "data": {
      "text/plain": [
       "Index(['web-scraper-order', 'web-scraper-start-url', 'property_type',\n",
       "       'property_type-href', 'property_name', 'prices', 'categories',\n",
       "       'commission', 'bedrooms', 'bathrooms', 'garage', 'amenities', 'address',\n",
       "       'area'],\n",
       "      dtype='object')"
      ]
     },
     "execution_count": 9,
     "metadata": {},
     "output_type": "execute_result"
    }
   ],
   "source": [
    "#inspecting the different columns of the dataset\n",
    "\n",
    "gh_housing.columns"
   ]
  },
  {
   "cell_type": "code",
   "execution_count": 10,
   "metadata": {},
   "outputs": [
    {
     "data": {
      "text/plain": [
       "web-scraper-order        2073\n",
       "web-scraper-start-url     134\n",
       "property_type               1\n",
       "property_type-href       2073\n",
       "property_name            1074\n",
       "prices                    493\n",
       "categories                466\n",
       "commission                  6\n",
       "bedrooms                   13\n",
       "bathrooms                  12\n",
       "garage                     21\n",
       "amenities                 863\n",
       "address                   310\n",
       "area                      183\n",
       "dtype: int64"
      ]
     },
     "execution_count": 10,
     "metadata": {},
     "output_type": "execute_result"
    }
   ],
   "source": [
    "#checking overall unique values for each column\n",
    "\n",
    "gh_housing.nunique(axis=0, dropna=True)"
   ]
  },
  {
   "cell_type": "markdown",
   "metadata": {},
   "source": [
    "## TASK 2: DATA CLEANING & PREPROCESSING\n",
    "\n",
    "### The goal is to Clean the dataset, inspect and transform datasets, making it suitable for analyis:"
   ]
  },
  {
   "cell_type": "code",
   "execution_count": 11,
   "metadata": {},
   "outputs": [],
   "source": [
    "#dropping columns not needed for analysis:\n",
    "\n",
    "gh_housing = gh_housing.drop(columns = ['web-scraper-order', 'web-scraper-start-url', 'property_type', 'property_type-href', 'categories'], axis = 1)"
   ]
  },
  {
   "cell_type": "code",
   "execution_count": 12,
   "metadata": {},
   "outputs": [
    {
     "data": {
      "text/html": [
       "<div>\n",
       "<style scoped>\n",
       "    .dataframe tbody tr th:only-of-type {\n",
       "        vertical-align: middle;\n",
       "    }\n",
       "\n",
       "    .dataframe tbody tr th {\n",
       "        vertical-align: top;\n",
       "    }\n",
       "\n",
       "    .dataframe thead th {\n",
       "        text-align: right;\n",
       "    }\n",
       "</style>\n",
       "<table border=\"1\" class=\"dataframe\">\n",
       "  <thead>\n",
       "    <tr style=\"text-align: right;\">\n",
       "      <th></th>\n",
       "      <th>property_name</th>\n",
       "      <th>prices</th>\n",
       "      <th>commission</th>\n",
       "      <th>bedrooms</th>\n",
       "      <th>bathrooms</th>\n",
       "      <th>garage</th>\n",
       "      <th>amenities</th>\n",
       "      <th>address</th>\n",
       "      <th>area</th>\n",
       "    </tr>\n",
       "  </thead>\n",
       "  <tbody>\n",
       "    <tr>\n",
       "      <td>0</td>\n",
       "      <td>2 bedroom furnished apartment for rent at null...</td>\n",
       "      <td>GH₵ 13,597</td>\n",
       "      <td>10.00%</td>\n",
       "      <td>2.0</td>\n",
       "      <td>2.0</td>\n",
       "      <td>NaN</td>\n",
       "      <td>Kitchen cabinets\\nClosets\\nCooker\\nKitchen\\nSw...</td>\n",
       "      <td>null Area</td>\n",
       "      <td>900 m2</td>\n",
       "    </tr>\n",
       "    <tr>\n",
       "      <td>1</td>\n",
       "      <td>3 bedroom apartment for rent at East Legon - T...</td>\n",
       "      <td>GH₵ 4,351</td>\n",
       "      <td>10.00%</td>\n",
       "      <td>3.0</td>\n",
       "      <td>4.0</td>\n",
       "      <td>2.0</td>\n",
       "      <td>Air conditioning\\nCooker\\nWashing machine\\nFan...</td>\n",
       "      <td>East Legon</td>\n",
       "      <td>1,000 m2</td>\n",
       "    </tr>\n",
       "    <tr>\n",
       "      <td>2</td>\n",
       "      <td>3 bedroom house for rent at East Legon</td>\n",
       "      <td>GH₵ 3,807</td>\n",
       "      <td>10.00%</td>\n",
       "      <td>3.0</td>\n",
       "      <td>2.0</td>\n",
       "      <td>0.0</td>\n",
       "      <td>Air conditioning\\nCooker\\nInternet\\nGarden\\nGa...</td>\n",
       "      <td>East Legon</td>\n",
       "      <td>NaN</td>\n",
       "    </tr>\n",
       "    <tr>\n",
       "      <td>3</td>\n",
       "      <td>2 bedroom furnished house for rent at East Legon</td>\n",
       "      <td>GH₵ 5,300</td>\n",
       "      <td>10.00%</td>\n",
       "      <td>2.0</td>\n",
       "      <td>3.0</td>\n",
       "      <td>2.0</td>\n",
       "      <td>Air conditioning\\nCooker\\nWashing machine\\nFan...</td>\n",
       "      <td>East Legon</td>\n",
       "      <td>900 m2</td>\n",
       "    </tr>\n",
       "    <tr>\n",
       "      <td>4</td>\n",
       "      <td>4 bedroom house for rent at Ashongman</td>\n",
       "      <td>GH₵ 3,000</td>\n",
       "      <td>10.00%</td>\n",
       "      <td>4.0</td>\n",
       "      <td>1.0</td>\n",
       "      <td>0.0</td>\n",
       "      <td>Water reservoir</td>\n",
       "      <td>Ashongman</td>\n",
       "      <td>NaN</td>\n",
       "    </tr>\n",
       "  </tbody>\n",
       "</table>\n",
       "</div>"
      ],
      "text/plain": [
       "                                       property_name      prices commission  \\\n",
       "0  2 bedroom furnished apartment for rent at null...  GH₵ 13,597     10.00%   \n",
       "1  3 bedroom apartment for rent at East Legon - T...   GH₵ 4,351     10.00%   \n",
       "2             3 bedroom house for rent at East Legon   GH₵ 3,807     10.00%   \n",
       "3   2 bedroom furnished house for rent at East Legon   GH₵ 5,300     10.00%   \n",
       "4              4 bedroom house for rent at Ashongman   GH₵ 3,000     10.00%   \n",
       "\n",
       "   bedrooms  bathrooms  garage  \\\n",
       "0       2.0        2.0     NaN   \n",
       "1       3.0        4.0     2.0   \n",
       "2       3.0        2.0     0.0   \n",
       "3       2.0        3.0     2.0   \n",
       "4       4.0        1.0     0.0   \n",
       "\n",
       "                                           amenities     address      area  \n",
       "0  Kitchen cabinets\\nClosets\\nCooker\\nKitchen\\nSw...   null Area    900 m2  \n",
       "1  Air conditioning\\nCooker\\nWashing machine\\nFan...  East Legon  1,000 m2  \n",
       "2  Air conditioning\\nCooker\\nInternet\\nGarden\\nGa...  East Legon       NaN  \n",
       "3  Air conditioning\\nCooker\\nWashing machine\\nFan...  East Legon    900 m2  \n",
       "4                                    Water reservoir   Ashongman       NaN  "
      ]
     },
     "execution_count": 12,
     "metadata": {},
     "output_type": "execute_result"
    }
   ],
   "source": [
    "gh_housing.head()"
   ]
  },
  {
   "cell_type": "markdown",
   "metadata": {},
   "source": [
    "### Cleaning \"Prices\" Column :"
   ]
  },
  {
   "cell_type": "code",
   "execution_count": 13,
   "metadata": {},
   "outputs": [
    {
     "name": "stdout",
     "output_type": "stream",
     "text": [
      "['GH₵ 13,597' 'GH₵ 4,351' 'GH₵ 3,807' 'GH₵ 5,300' 'GH₵ 3,000' 'GH₵ 8,000'\n",
      " 'GH₵ 2,195' 'GH₵ 38,072' 'GH₵ 5,820' 'GH₵ 24,475' 'GH₵ 700' 'GH₵ 5,037'\n",
      " 'GH₵ 21,756' 'GH₵ 1,740' 'GH₵ 1,500' 'GH₵ 27,195' 'GH₵ 8,090'\n",
      " 'GH₵ 16,317' 'GH₵ 4,700' 'GH₵ 26,107' 'GH₵ 17,400' 'GH₵ 1,400'\n",
      " 'GH₵ 4,000' 'GH₵ 32,633' 'GH₵ 19,036' 'GH₵ 7,150' 'GH₵ 16,500'\n",
      " 'GH₵ 7,000' 'GH₵ 14,000' 'GH₵ 2,000' 'GH₵ 23,387' 'GH₵ 5,439'\n",
      " 'GH₵ 15,000' 'GH₵ 39,160' 'GH₵ 11,558' 'GH₵ 2,500' 'GH₵ 2,176'\n",
      " 'GH₵ 8,158' 'GH₵ 2,800' 'GH₵ 35,750' 'GH₵ 2,719' 'GH₵ 35,353' 'GH₵ 8,267'\n",
      " 'GH₵ 7,614' 'GH₵ 9,790' 'GH₵ 1,800' 'GH₵ 3,263' 'GH₵ 1,700' 'GH₵ 10,878'\n",
      " 'GH₵ 1,000' 'GH₵ 750' 'GH₵ 980' 'GH₵ 9,800' 'GH₵ 11,966' 'GH₵ 8,400'\n",
      " 'GH₵ 1,300' 'GH₵ 19,600' 'GH₵ 3,780' 'GH₵ 12,509' 'GH₵ 500' 'GH₵ 4,623'\n",
      " 'GH₵ 16,194' 'GH₵ 12,046' 'GH₵ 8,670' 'GH₵ 1,560' 'GH₵ 13,053'\n",
      " 'GH₵ 10,691' 'GH₵ 7,071' 'GH₵ 4,500' 'GH₵ 1,200' 'GH₵ 5,130' 'GH₵ 44,250'\n",
      " 'GH₵ 6,799' 'GH₵ 14,750' 'GH₵ 816' 'GH₵ 4,370' 'GH₵ 3,500' 'GH₵ 13,409'\n",
      " 'GH₵ 13,000' 'GH₵ 11,000' 'GH₵ 17,100' 'GH₵ 11,422' 'GH₵ 8,260'\n",
      " 'GH₵ 3,535' 'GH₵ 29,914' 'GH₵ 8,700' 'GH₵ 600' 'GH₵ 6,000' 'GH₵ 2,991'\n",
      " 'GH₵ 5,800' 'GH₵ 7,800' 'GH₵ 8,728' 'GH₵ 16,141' 'GH₵ 25,195'\n",
      " 'GH₵ 22,000' 'GH₵ 17,370' 'GH₵ 11,600' 'GH₵ 13,400' 'GH₵ 3,990'\n",
      " 'GH₵ 4,669' 'GH₵ 21,000' 'GH₵ 26,550' 'GH₵ 19,900' 'GH₵ 13,500' 'GH₵ 698'\n",
      " 'GH₵ 17,610' 'GH₵ 2,600' 'GH₵ 2,850' 'GH₵ 14,141' 'GH₵ 8,702' 'GH₵ 5,000'\n",
      " 'GH₵ 22,500' 'GH₵ 4,060' 'GH₵ 4,895' 'GH₵ 17,149' 'GH₵ 17,337'\n",
      " 'GH₵ 17,404' 'GH₵ 17,300' 'GH₵ 9,690' 'GH₵ 5,847' 'GH₵ 9,246'\n",
      " 'GH₵ 10,334' 'GH₵ 11,529' 'GH₵ 6,527' 'GH₵ 12,892' 'GH₵ 3,200'\n",
      " 'GH₵ 2,200' 'GH₵ 30,000' 'GH₵ 2,300' 'GH₵ 54,389' 'GH₵ 31,762'\n",
      " 'GH₵ 1,600' 'GH₵ 1,632' 'GH₵ 19,852' 'GH₵ 22,400' 'GH₵ 14,650'\n",
      " 'GH₵ 8,500' 'GH₵ 3,820' 'GH₵ 23,165' 'GH₵ 18,492' 'GH₵ 12,000'\n",
      " 'GH₵ 1,360' 'GH₵ 16,800' 'GH₵ 8,822' 'GH₵ 20,000' 'GH₵ 0' 'GH₵ 10,404'\n",
      " 'GH₵ 23,600' 'GH₵ 13,750' 'GH₵ 4,200' 'GH₵ 9,884' 'GH₵ 23,163'\n",
      " 'GH₵ 33,000' 'GH₵ 13,200' 'GH₵ 15,229' 'GH₵ 7,500' 'GH₵ 8,751'\n",
      " 'GH₵ 8,721' 'GH₵ 1,450' 'GH₵ 14,200' 'GH₵ 9,000' 'GH₵ 23,300' 'GH₵ 885'\n",
      " 'GH₵ 40,250' 'GH₵ 3,185' nan 'GH₵ 14,685' 'GH₵ 7,280' 'GH₵ 10,800'\n",
      " 'GH₵ 3,160' 'GH₵ 4,640' 'GH₵ 28,826' 'GH₵ 1,350' 'GH₵ 11,800' 'GH₵ 1,088'\n",
      " 'GH₵ 25,000' 'GH₵ 11,638' 'GH₵ 900' 'GH₵ 2,400' 'GH₵ 8,969' 'GH₵ 2,620'\n",
      " 'GH₵ 108,767' 'GH₵ 16,279' 'GH₵ 1,565' 'GH₵ 17,948' 'GH₵ 2,971'\n",
      " 'GH₵ 11,200' 'GH₵ 25,200' 'GH₵ 1,276' 'GH₵ 5,231' 'GH₵ 9,600'\n",
      " 'GH₵ 14,500' 'GH₵ 28,000' 'GH₵ 77,504' 'GH₵ 850' 'GH₵ 7,900' 'GH₵ 5,030'\n",
      " 'GH₵ 33,074' 'GH₵ 8,955' 'GH₵ 2,011' 'GH₵ 5,500' 'GH₵ 5,825' 'GH₵ 5,167'\n",
      " 'GH₵ 5,600' 'GH₵ 3,640' 'GH₵ 12,826' 'GH₵ 4,400' 'GH₵ 1,160' 'GH₵ 22,800'\n",
      " 'GH₵ 17,490' 'GH₵ 31,850' 'GH₵ 6,960' 'GH₵ 6,720' 'GH₵ 8,800'\n",
      " 'GH₵ 19,580' 'GH₵ 12,238' 'GH₵ 1,180' 'GH₵ 650' 'GH₵ 4,079' 'GH₵ 36,000'\n",
      " 'GH₵ 30,250' 'GH₵ 19,250' 'GH₵ 14,575' 'GH₵ 22,420' 'GH₵ 5,400'\n",
      " 'GH₵ 24,000' 'GH₵ 15,248' 'GH₵ 15,960' 'GH₵ 2,884' 'GH₵ 17,000'\n",
      " 'GH₵ 26,035' 'GH₵ 6,840' 'GH₵ 13,800' 'GH₵ 13,110' 'GH₵ 11,400,000'\n",
      " 'GH₵ 11,400' 'GH₵ 17,328' 'GH₵ 2,700' 'GH₵ 10,890' 'GH₵ 28,500'\n",
      " 'GH₵ 37,528' 'GH₵ 5,175' 'GH₵ 7,410' 'GH₵ 38,050' 'GH₵ 12,342'\n",
      " 'GH₵ 7,475' 'GH₵ 21,780' 'GH₵ 8,808' 'GH₵ 12,126' 'GH₵ 7,832' 'GH₵ 9,518'\n",
      " 'GH₵ 23,000' 'GH₵ 14,250' 'GH₵ 10,661' 'GH₵ 8,796' 'GH₵ 10,440'\n",
      " 'GH₵ 1,710' 'GH₵ 19,950' 'GH₵ 7,439' 'GH₵ 25,650' 'GH₵ 8,081'\n",
      " 'GH₵ 20,988' 'GH₵ 25,875' 'GH₵ 4,573' 'GH₵ 8,550' 'GH₵ 11,500'\n",
      " 'GH₵ 11,160' 'GH₵ 12,540' 'GH₵ 8,942' 'GH₵ 1,100' 'GH₵ 14,585'\n",
      " 'GH₵ 14,660' 'GH₵ 11,881' 'GH₵ 520,600' 'GH₵ 37,499' 'GH₵ 3,400'\n",
      " 'GH₵ 9,718' 'GH₵ 8,775' 'GH₵ 9,803' 'GH₵ 18,204' 'GH₵ 17,250' 'GH₵ 5,700'\n",
      " 'GH₵ 17,405' 'GH₵ 24,822' 'GH₵ 6,900' 'GH₵ 570' 'GH₵ 2,556' 'GH₵ 5,819'\n",
      " 'GH₵ 16,000' 'GH₵ 3,420' 'GH₵ 10,400' 'GH₵ 8,654' 'GH₵ 5,265' 'GH₵ 1,650'\n",
      " 'GH₵ 4,959' 'GH₵ 2,280' 'GH₵ 11,150' 'GH₵ 4,600' 'GH₵ 3,135' 'GH₵ 3,700'\n",
      " 'GH₵ 24,506' 'GH₵ 5,785' 'GH₵ 30,431' 'GH₵ 3,705,000' 'GH₵ 3,480'\n",
      " 'GH₵ 800' 'GH₵ 1,539,000' 'GH₵ 6,800' 'GH₵ 8,690' 'GH₵ 8,415'\n",
      " 'GH₵ 10,387' 'GH₵ 46,960' 'GH₵ 16,202' 'GH₵ 25,563' 'GH₵ 37,505'\n",
      " 'GH₵ 3,705' 'GH₵ 544' 'GH₵ 3,471' 'GH₵ 16,388' 'GH₵ 11,740' 'GH₵ 2,314'\n",
      " 'GH₵ 7,512' 'GH₵ 16,337' 'GH₵ 4,628' 'GH₵ 20,668' 'GH₵ 10,380'\n",
      " 'GH₵ 8,120' 'GH₵ 23,320' 'GH₵ 36,441' 'GH₵ 9,720' 'GH₵ 8,100'\n",
      " 'GH₵ 17,580' 'GH₵ 31,625' 'GH₵ 21,600' 'GH₵ 4,625' 'GH₵ 16,146'\n",
      " 'GH₵ 17,820' 'GH₵ 18,900' 'GH₵ 27,000' 'GH₵ 11,880' 'GH₵ 11,070'\n",
      " 'GH₵ 5,100' 'GH₵ 707' 'GH₵ 24,300' 'GH₵ 29,500' 'GH₵ 24,725' 'GH₵ 18,672'\n",
      " 'GH₵ 26,379' 'GH₵ 20,510' 'GH₵ 16,200' 'GH₵ 10,350' 'GH₵ 6,181'\n",
      " 'GH₵ 5,983' 'GH₵ 9,180' 'GH₵ 5,850' 'GH₵ 6,424' 'GH₵ 20,650' 'GH₵ 10,999'\n",
      " 'GH₵ 18,688' 'GH₵ 14,580' 'GH₵ 16,045' 'GH₵ 69,600' 'GH₵ 8,050'\n",
      " 'GH₵ 59,000' 'GH₵ 236,000' 'GH₵ 14,040' 'GH₵ 9,350' 'GH₵ 21,869'\n",
      " 'GH₵ 18,350' 'GH₵ 21,850' 'GH₵ 8,249' 'GH₵ 19,470' 'GH₵ 15,066'\n",
      " 'GH₵ 15,120' 'GH₵ 22,680' 'GH₵ 19,440' 'GH₵ 6,599' 'GH₵ 43,125'\n",
      " 'GH₵ 20,520' 'GH₵ 24,438' 'GH₵ 11,610' 'GH₵ 2,160' 'GH₵ 5,940'\n",
      " 'GH₵ 8,893' 'GH₵ 14,357' 'GH₵ 17,280' 'GH₵ 16,861' 'GH₵ 13,230'\n",
      " 'GH₵ 5,481' 'GH₵ 11,396' 'GH₵ 19,838' 'GH₵ 5,805' 'GH₵ 23,200'\n",
      " 'GH₵ 7,019' 'GH₵ 18,975' 'GH₵ 42,265' 'GH₵ 20,396' 'GH₵ 14,777'\n",
      " 'GH₵ 5,763' 'GH₵ 13,026' 'GH₵ 14,375' 'GH₵ 29,900' 'GH₵ 5,698'\n",
      " 'GH₵ 17,226' 'GH₵ 2,448' 'GH₵ 11,550' 'GH₵ 17,700' 'GH₵ 3,800'\n",
      " 'GH₵ 31,818' 'GH₵ 20,107' 'GH₵ 21,024' 'GH₵ 400' 'GH₵ 40,500'\n",
      " 'GH₵ 14,786' 'GH₵ 7,020' 'GH₵ 43,511' 'GH₵ 6,895' 'GH₵ 8,547' 'GH₵ 702'\n",
      " 'GH₵ 3,779' 'GH₵ 11,421' 'GH₵ 179,484' 'GH₵ 1,904' 'GH₵ 756' 'GH₵ 17,825'\n",
      " 'GH₵ 1,026' 'GH₵ 540' 'GH₵ 2,825' 'GH₵ 20,068' 'GH₵ 14,298' 'GH₵ 20,125'\n",
      " 'GH₵ 26,100' 'GH₵ 18,894' 'GH₵ 12,420' 'GH₵ 14,850' 'GH₵ 4,590'\n",
      " 'GH₵ 29,700' 'GH₵ 12,150' 'GH₵ 1,539' 'GH₵ 8,910' 'GH₵ 8,640' 'GH₵ 2,849'\n",
      " 'GH₵ 6,480' 'GH₵ 22,843' 'GH₵ 10,530' 'GH₵ 12,960' 'GH₵ 8,525'\n",
      " 'GH₵ 20,124' 'GH₵ 23,220' 'GH₵ 10,725' 'GH₵ 10,500' 'GH₵ 23,103'\n",
      " 'GH₵ 5,499' 'GH₵ 14,245' 'GH₵ 8,073' 'GH₵ 17,712' 'GH₵ 4,860' 'GH₵ 972'\n",
      " 'GH₵ 15,773' 'GH₵ 7,343' 'GH₵ 1,728' 'GH₵ 85,000' 'GH₵ 27,624' 'GH₵ 648'\n",
      " 'GH₵ 8,913' 'GH₵ 21,484' 'GH₵ 23,055' 'GH₵ 13,105' 'GH₵ 4,558' 'GH₵ 810'\n",
      " 'GH₵ 8,579' 'GH₵ 25,019' 'GH₵ 34,212' 'GH₵ 8,343' 'GH₵ 3,418' 'GH₵ 6,600'\n",
      " 'GH₵ 37,800' 'GH₵ 21,060' 'GH₵ 35,100' 'GH₵ 7,188' 'GH₵ 15,238'\n",
      " 'GH₵ 2,250' 'GH₵ 35,000' 'GH₵ 450' 'GH₵ 42,500' 'GH₵ 19,000' 'GH₵ 39,950'\n",
      " 'GH₵ 979' 'GH₵ 9,900' 'GH₵ 1,900' 'GH₵ 20,400' 'GH₵ 12,700' 'GH₵ 20,300'\n",
      " 'GH₵ 538']\n"
     ]
    }
   ],
   "source": [
    "# inspecting \"prices\" column:\n",
    "\n",
    "print(gh_housing[\"prices\"].unique())"
   ]
  },
  {
   "cell_type": "code",
   "execution_count": 14,
   "metadata": {},
   "outputs": [
    {
     "data": {
      "text/plain": [
       "dtype('O')"
      ]
     },
     "execution_count": 14,
     "metadata": {},
     "output_type": "execute_result"
    }
   ],
   "source": [
    "gh_housing.prices.dtype"
   ]
  },
  {
   "cell_type": "markdown",
   "metadata": {},
   "source": [
    "It can be seen that Price is showing as Object instead of integer."
   ]
  },
  {
   "cell_type": "code",
   "execution_count": 15,
   "metadata": {},
   "outputs": [],
   "source": [
    "# Removing 'GH¢' and ',' sign to change the Prices to numeric for analysis:\n",
    "\n",
    "gh_housing.prices = gh_housing.prices.apply(lambda x: str(x).replace('GH₵', '') if 'GH₵' in str(x) else str(x))\n",
    "gh_housing.prices = gh_housing.prices.apply(lambda x: str(x).replace(',', '') if ',' in str(x) else str(x))"
   ]
  },
  {
   "cell_type": "code",
   "execution_count": 16,
   "metadata": {
    "scrolled": true
   },
   "outputs": [
    {
     "name": "stdout",
     "output_type": "stream",
     "text": [
      "[' 13597' ' 4351' ' 3807' ' 5300' ' 3000' ' 8000' ' 2195' ' 38072' ' 5820'\n",
      " ' 24475' ' 700' ' 5037' ' 21756' ' 1740' ' 1500' ' 27195' ' 8090'\n",
      " ' 16317' ' 4700' ' 26107' ' 17400' ' 1400' ' 4000' ' 32633' ' 19036'\n",
      " ' 7150' ' 16500' ' 7000' ' 14000' ' 2000' ' 23387' ' 5439' ' 15000'\n",
      " ' 39160' ' 11558' ' 2500' ' 2176' ' 8158' ' 2800' ' 35750' ' 2719'\n",
      " ' 35353' ' 8267' ' 7614' ' 9790' ' 1800' ' 3263' ' 1700' ' 10878' ' 1000'\n",
      " ' 750' ' 980' ' 9800' ' 11966' ' 8400' ' 1300' ' 19600' ' 3780' ' 12509'\n",
      " ' 500' ' 4623' ' 16194' ' 12046' ' 8670' ' 1560' ' 13053' ' 10691'\n",
      " ' 7071' ' 4500' ' 1200' ' 5130' ' 44250' ' 6799' ' 14750' ' 816' ' 4370'\n",
      " ' 3500' ' 13409' ' 13000' ' 11000' ' 17100' ' 11422' ' 8260' ' 3535'\n",
      " ' 29914' ' 8700' ' 600' ' 6000' ' 2991' ' 5800' ' 7800' ' 8728' ' 16141'\n",
      " ' 25195' ' 22000' ' 17370' ' 11600' ' 13400' ' 3990' ' 4669' ' 21000'\n",
      " ' 26550' ' 19900' ' 13500' ' 698' ' 17610' ' 2600' ' 2850' ' 14141'\n",
      " ' 8702' ' 5000' ' 22500' ' 4060' ' 4895' ' 17149' ' 17337' ' 17404'\n",
      " ' 17300' ' 9690' ' 5847' ' 9246' ' 10334' ' 11529' ' 6527' ' 12892'\n",
      " ' 3200' ' 2200' ' 30000' ' 2300' ' 54389' ' 31762' ' 1600' ' 1632'\n",
      " ' 19852' ' 22400' ' 14650' ' 8500' ' 3820' ' 23165' ' 18492' ' 12000'\n",
      " ' 1360' ' 16800' ' 8822' ' 20000' ' 0' ' 10404' ' 23600' ' 13750' ' 4200'\n",
      " ' 9884' ' 23163' ' 33000' ' 13200' ' 15229' ' 7500' ' 8751' ' 8721'\n",
      " ' 1450' ' 14200' ' 9000' ' 23300' ' 885' ' 40250' ' 3185' 'nan' ' 14685'\n",
      " ' 7280' ' 10800' ' 3160' ' 4640' ' 28826' ' 1350' ' 11800' ' 1088'\n",
      " ' 25000' ' 11638' ' 900' ' 2400' ' 8969' ' 2620' ' 108767' ' 16279'\n",
      " ' 1565' ' 17948' ' 2971' ' 11200' ' 25200' ' 1276' ' 5231' ' 9600'\n",
      " ' 14500' ' 28000' ' 77504' ' 850' ' 7900' ' 5030' ' 33074' ' 8955'\n",
      " ' 2011' ' 5500' ' 5825' ' 5167' ' 5600' ' 3640' ' 12826' ' 4400' ' 1160'\n",
      " ' 22800' ' 17490' ' 31850' ' 6960' ' 6720' ' 8800' ' 19580' ' 12238'\n",
      " ' 1180' ' 650' ' 4079' ' 36000' ' 30250' ' 19250' ' 14575' ' 22420'\n",
      " ' 5400' ' 24000' ' 15248' ' 15960' ' 2884' ' 17000' ' 26035' ' 6840'\n",
      " ' 13800' ' 13110' ' 11400000' ' 11400' ' 17328' ' 2700' ' 10890' ' 28500'\n",
      " ' 37528' ' 5175' ' 7410' ' 38050' ' 12342' ' 7475' ' 21780' ' 8808'\n",
      " ' 12126' ' 7832' ' 9518' ' 23000' ' 14250' ' 10661' ' 8796' ' 10440'\n",
      " ' 1710' ' 19950' ' 7439' ' 25650' ' 8081' ' 20988' ' 25875' ' 4573'\n",
      " ' 8550' ' 11500' ' 11160' ' 12540' ' 8942' ' 1100' ' 14585' ' 14660'\n",
      " ' 11881' ' 520600' ' 37499' ' 3400' ' 9718' ' 8775' ' 9803' ' 18204'\n",
      " ' 17250' ' 5700' ' 17405' ' 24822' ' 6900' ' 570' ' 2556' ' 5819'\n",
      " ' 16000' ' 3420' ' 10400' ' 8654' ' 5265' ' 1650' ' 4959' ' 2280'\n",
      " ' 11150' ' 4600' ' 3135' ' 3700' ' 24506' ' 5785' ' 30431' ' 3705000'\n",
      " ' 3480' ' 800' ' 1539000' ' 6800' ' 8690' ' 8415' ' 10387' ' 46960'\n",
      " ' 16202' ' 25563' ' 37505' ' 3705' ' 544' ' 3471' ' 16388' ' 11740'\n",
      " ' 2314' ' 7512' ' 16337' ' 4628' ' 20668' ' 10380' ' 8120' ' 23320'\n",
      " ' 36441' ' 9720' ' 8100' ' 17580' ' 31625' ' 21600' ' 4625' ' 16146'\n",
      " ' 17820' ' 18900' ' 27000' ' 11880' ' 11070' ' 5100' ' 707' ' 24300'\n",
      " ' 29500' ' 24725' ' 18672' ' 26379' ' 20510' ' 16200' ' 10350' ' 6181'\n",
      " ' 5983' ' 9180' ' 5850' ' 6424' ' 20650' ' 10999' ' 18688' ' 14580'\n",
      " ' 16045' ' 69600' ' 8050' ' 59000' ' 236000' ' 14040' ' 9350' ' 21869'\n",
      " ' 18350' ' 21850' ' 8249' ' 19470' ' 15066' ' 15120' ' 22680' ' 19440'\n",
      " ' 6599' ' 43125' ' 20520' ' 24438' ' 11610' ' 2160' ' 5940' ' 8893'\n",
      " ' 14357' ' 17280' ' 16861' ' 13230' ' 5481' ' 11396' ' 19838' ' 5805'\n",
      " ' 23200' ' 7019' ' 18975' ' 42265' ' 20396' ' 14777' ' 5763' ' 13026'\n",
      " ' 14375' ' 29900' ' 5698' ' 17226' ' 2448' ' 11550' ' 17700' ' 3800'\n",
      " ' 31818' ' 20107' ' 21024' ' 400' ' 40500' ' 14786' ' 7020' ' 43511'\n",
      " ' 6895' ' 8547' ' 702' ' 3779' ' 11421' ' 179484' ' 1904' ' 756' ' 17825'\n",
      " ' 1026' ' 540' ' 2825' ' 20068' ' 14298' ' 20125' ' 26100' ' 18894'\n",
      " ' 12420' ' 14850' ' 4590' ' 29700' ' 12150' ' 1539' ' 8910' ' 8640'\n",
      " ' 2849' ' 6480' ' 22843' ' 10530' ' 12960' ' 8525' ' 20124' ' 23220'\n",
      " ' 10725' ' 10500' ' 23103' ' 5499' ' 14245' ' 8073' ' 17712' ' 4860'\n",
      " ' 972' ' 15773' ' 7343' ' 1728' ' 85000' ' 27624' ' 648' ' 8913' ' 21484'\n",
      " ' 23055' ' 13105' ' 4558' ' 810' ' 8579' ' 25019' ' 34212' ' 8343'\n",
      " ' 3418' ' 6600' ' 37800' ' 21060' ' 35100' ' 7188' ' 15238' ' 2250'\n",
      " ' 35000' ' 450' ' 42500' ' 19000' ' 39950' ' 979' ' 9900' ' 1900'\n",
      " ' 20400' ' 12700' ' 20300' ' 538']\n"
     ]
    }
   ],
   "source": [
    "# checking prices again\n",
    "\n",
    "print(gh_housing[\"prices\"].unique())"
   ]
  },
  {
   "cell_type": "code",
   "execution_count": 17,
   "metadata": {},
   "outputs": [
    {
     "data": {
      "text/plain": [
       "dtype('O')"
      ]
     },
     "execution_count": 17,
     "metadata": {},
     "output_type": "execute_result"
    }
   ],
   "source": [
    "gh_housing.prices.dtype"
   ]
  },
  {
   "cell_type": "code",
   "execution_count": 18,
   "metadata": {},
   "outputs": [],
   "source": [
    "#converting \"prices\" column to numeric\n",
    "\n",
    "gh_housing[\"prices\"] = pd.to_numeric(gh_housing[\"prices\"], errors = 'coerce', downcast = \"integer\")"
   ]
  },
  {
   "cell_type": "code",
   "execution_count": 19,
   "metadata": {},
   "outputs": [
    {
     "data": {
      "text/plain": [
       "dtype('float64')"
      ]
     },
     "execution_count": 19,
     "metadata": {},
     "output_type": "execute_result"
    }
   ],
   "source": [
    "gh_housing.prices.dtype"
   ]
  },
  {
   "cell_type": "code",
   "execution_count": 20,
   "metadata": {
    "scrolled": true
   },
   "outputs": [
    {
     "data": {
      "text/plain": [
       "20"
      ]
     },
     "execution_count": 20,
     "metadata": {},
     "output_type": "execute_result"
    }
   ],
   "source": [
    "# checking nan-values of prices\n",
    "\n",
    "gh_housing.prices.isna().sum()"
   ]
  },
  {
   "cell_type": "markdown",
   "metadata": {},
   "source": [
    "It can be seen that there are **20** null/missing values of prices which wouldn't help in our analysis, hence we drop them"
   ]
  },
  {
   "cell_type": "code",
   "execution_count": 21,
   "metadata": {},
   "outputs": [],
   "source": [
    "# Removing the row containing inconsistent/null data:\n",
    "\n",
    "gh_housing.dropna(subset = ['prices'], inplace = True)"
   ]
  },
  {
   "cell_type": "code",
   "execution_count": 22,
   "metadata": {},
   "outputs": [
    {
     "data": {
      "text/plain": [
       "0"
      ]
     },
     "execution_count": 22,
     "metadata": {},
     "output_type": "execute_result"
    }
   ],
   "source": [
    "#Confirming removal\n",
    "\n",
    "gh_housing.prices.isna().sum()"
   ]
  },
  {
   "cell_type": "code",
   "execution_count": 23,
   "metadata": {
    "scrolled": true
   },
   "outputs": [
    {
     "data": {
      "text/html": [
       "<div>\n",
       "<style scoped>\n",
       "    .dataframe tbody tr th:only-of-type {\n",
       "        vertical-align: middle;\n",
       "    }\n",
       "\n",
       "    .dataframe tbody tr th {\n",
       "        vertical-align: top;\n",
       "    }\n",
       "\n",
       "    .dataframe thead th {\n",
       "        text-align: right;\n",
       "    }\n",
       "</style>\n",
       "<table border=\"1\" class=\"dataframe\">\n",
       "  <thead>\n",
       "    <tr style=\"text-align: right;\">\n",
       "      <th></th>\n",
       "      <th>property_name</th>\n",
       "      <th>prices</th>\n",
       "      <th>commission</th>\n",
       "      <th>bedrooms</th>\n",
       "      <th>bathrooms</th>\n",
       "      <th>garage</th>\n",
       "      <th>amenities</th>\n",
       "      <th>address</th>\n",
       "      <th>area</th>\n",
       "    </tr>\n",
       "  </thead>\n",
       "  <tbody>\n",
       "    <tr>\n",
       "      <td>431</td>\n",
       "      <td>3 bedroom house for rent at Spintex</td>\n",
       "      <td>0.0</td>\n",
       "      <td>5.00%</td>\n",
       "      <td>3.0</td>\n",
       "      <td>4.0</td>\n",
       "      <td>2.0</td>\n",
       "      <td>Air conditioning\\nCooker\\nFans\\nMicrowave\\nSec...</td>\n",
       "      <td>Spintex</td>\n",
       "      <td>250 m2</td>\n",
       "    </tr>\n",
       "    <tr>\n",
       "      <td>1588</td>\n",
       "      <td>2 bedroom house for rent at Manet Court Juncti...</td>\n",
       "      <td>0.0</td>\n",
       "      <td>10.00%</td>\n",
       "      <td>2.0</td>\n",
       "      <td>3.0</td>\n",
       "      <td>0.0</td>\n",
       "      <td>Fans\\nWater reservoir</td>\n",
       "      <td>Spintex</td>\n",
       "      <td>7,070 m2</td>\n",
       "    </tr>\n",
       "  </tbody>\n",
       "</table>\n",
       "</div>"
      ],
      "text/plain": [
       "                                          property_name  prices commission  \\\n",
       "431                 3 bedroom house for rent at Spintex     0.0      5.00%   \n",
       "1588  2 bedroom house for rent at Manet Court Juncti...     0.0     10.00%   \n",
       "\n",
       "      bedrooms  bathrooms  garage  \\\n",
       "431        3.0        4.0     2.0   \n",
       "1588       2.0        3.0     0.0   \n",
       "\n",
       "                                              amenities  address      area  \n",
       "431   Air conditioning\\nCooker\\nFans\\nMicrowave\\nSec...  Spintex    250 m2  \n",
       "1588                              Fans\\nWater reservoir  Spintex  7,070 m2  "
      ]
     },
     "execution_count": 23,
     "metadata": {},
     "output_type": "execute_result"
    }
   ],
   "source": [
    "# Checking for rows with value zero\n",
    "\n",
    "gh_housing[gh_housing[\"prices\"] == 0]"
   ]
  },
  {
   "cell_type": "markdown",
   "metadata": {},
   "source": [
    "These 2 rows with price zero cannot be used for analysis and cannot be filled with any arbitrary figure as prices of accommodation depends on lot of factors like location, number of bedrooms and bathrooms. Hence, they would be dropped."
   ]
  },
  {
   "cell_type": "code",
   "execution_count": 24,
   "metadata": {},
   "outputs": [],
   "source": [
    "# Removing rows with price equal zero.\n",
    "\n",
    "gh_housing.drop(gh_housing.index[gh_housing['prices'] == 0], inplace = True)"
   ]
  },
  {
   "cell_type": "code",
   "execution_count": 25,
   "metadata": {},
   "outputs": [
    {
     "data": {
      "text/html": [
       "<div>\n",
       "<style scoped>\n",
       "    .dataframe tbody tr th:only-of-type {\n",
       "        vertical-align: middle;\n",
       "    }\n",
       "\n",
       "    .dataframe tbody tr th {\n",
       "        vertical-align: top;\n",
       "    }\n",
       "\n",
       "    .dataframe thead th {\n",
       "        text-align: right;\n",
       "    }\n",
       "</style>\n",
       "<table border=\"1\" class=\"dataframe\">\n",
       "  <thead>\n",
       "    <tr style=\"text-align: right;\">\n",
       "      <th></th>\n",
       "      <th>property_name</th>\n",
       "      <th>prices</th>\n",
       "      <th>commission</th>\n",
       "      <th>bedrooms</th>\n",
       "      <th>bathrooms</th>\n",
       "      <th>garage</th>\n",
       "      <th>amenities</th>\n",
       "      <th>address</th>\n",
       "      <th>area</th>\n",
       "    </tr>\n",
       "  </thead>\n",
       "  <tbody>\n",
       "  </tbody>\n",
       "</table>\n",
       "</div>"
      ],
      "text/plain": [
       "Empty DataFrame\n",
       "Columns: [property_name, prices, commission, bedrooms, bathrooms, garage, amenities, address, area]\n",
       "Index: []"
      ]
     },
     "execution_count": 25,
     "metadata": {},
     "output_type": "execute_result"
    }
   ],
   "source": [
    "# Checking for rows with price zero again\n",
    "\n",
    "gh_housing[gh_housing[\"prices\"] == 0]"
   ]
  },
  {
   "cell_type": "code",
   "execution_count": 26,
   "metadata": {},
   "outputs": [],
   "source": [
    "gh_housing[\"prices\"] = pd.to_numeric(gh_housing[\"prices\"])"
   ]
  },
  {
   "cell_type": "code",
   "execution_count": 27,
   "metadata": {},
   "outputs": [
    {
     "data": {
      "text/plain": [
       "dtype('float64')"
      ]
     },
     "execution_count": 27,
     "metadata": {},
     "output_type": "execute_result"
    }
   ],
   "source": [
    "gh_housing.prices.dtype"
   ]
  },
  {
   "cell_type": "code",
   "execution_count": 28,
   "metadata": {},
   "outputs": [
    {
     "data": {
      "text/plain": [
       "array([1.35970e+04, 4.35100e+03, 3.80700e+03, 5.30000e+03, 3.00000e+03,\n",
       "       8.00000e+03, 2.19500e+03, 3.80720e+04, 5.82000e+03, 2.44750e+04,\n",
       "       7.00000e+02, 5.03700e+03, 2.17560e+04, 1.74000e+03, 1.50000e+03,\n",
       "       2.71950e+04, 8.09000e+03, 1.63170e+04, 4.70000e+03, 2.61070e+04,\n",
       "       1.74000e+04, 1.40000e+03, 4.00000e+03, 3.26330e+04, 1.90360e+04,\n",
       "       7.15000e+03, 1.65000e+04, 7.00000e+03, 1.40000e+04, 2.00000e+03,\n",
       "       2.33870e+04, 5.43900e+03, 1.50000e+04, 3.91600e+04, 1.15580e+04,\n",
       "       2.50000e+03, 2.17600e+03, 8.15800e+03, 2.80000e+03, 3.57500e+04,\n",
       "       2.71900e+03, 3.53530e+04, 8.26700e+03, 7.61400e+03, 9.79000e+03,\n",
       "       1.80000e+03, 3.26300e+03, 1.70000e+03, 1.08780e+04, 1.00000e+03,\n",
       "       7.50000e+02, 9.80000e+02, 9.80000e+03, 1.19660e+04, 8.40000e+03,\n",
       "       1.30000e+03, 1.96000e+04, 3.78000e+03, 1.25090e+04, 5.00000e+02,\n",
       "       4.62300e+03, 1.61940e+04, 1.20460e+04, 8.67000e+03, 1.56000e+03,\n",
       "       1.30530e+04, 1.06910e+04, 7.07100e+03, 4.50000e+03, 1.20000e+03,\n",
       "       5.13000e+03, 4.42500e+04, 6.79900e+03, 1.47500e+04, 8.16000e+02,\n",
       "       4.37000e+03, 3.50000e+03, 1.34090e+04, 1.30000e+04, 1.10000e+04,\n",
       "       1.71000e+04, 1.14220e+04, 8.26000e+03, 3.53500e+03, 2.99140e+04,\n",
       "       8.70000e+03, 6.00000e+02, 6.00000e+03, 2.99100e+03, 5.80000e+03,\n",
       "       7.80000e+03, 8.72800e+03, 1.61410e+04, 2.51950e+04, 2.20000e+04,\n",
       "       1.73700e+04, 1.16000e+04, 1.34000e+04, 3.99000e+03, 4.66900e+03,\n",
       "       2.10000e+04, 2.65500e+04, 1.99000e+04, 1.35000e+04, 6.98000e+02,\n",
       "       1.76100e+04, 2.60000e+03, 2.85000e+03, 1.41410e+04, 8.70200e+03,\n",
       "       5.00000e+03, 2.25000e+04, 4.06000e+03, 4.89500e+03, 1.71490e+04,\n",
       "       1.73370e+04, 1.74040e+04, 1.73000e+04, 9.69000e+03, 5.84700e+03,\n",
       "       9.24600e+03, 1.03340e+04, 1.15290e+04, 6.52700e+03, 1.28920e+04,\n",
       "       3.20000e+03, 2.20000e+03, 3.00000e+04, 2.30000e+03, 5.43890e+04,\n",
       "       3.17620e+04, 1.60000e+03, 1.63200e+03, 1.98520e+04, 2.24000e+04,\n",
       "       1.46500e+04, 8.50000e+03, 3.82000e+03, 2.31650e+04, 1.84920e+04,\n",
       "       1.20000e+04, 1.36000e+03, 1.68000e+04, 8.82200e+03, 2.00000e+04,\n",
       "       1.04040e+04, 2.36000e+04, 1.37500e+04, 4.20000e+03, 9.88400e+03,\n",
       "       2.31630e+04, 3.30000e+04, 1.32000e+04, 1.52290e+04, 7.50000e+03,\n",
       "       8.75100e+03, 8.72100e+03, 1.45000e+03, 1.42000e+04, 9.00000e+03,\n",
       "       2.33000e+04, 8.85000e+02, 4.02500e+04, 3.18500e+03, 1.46850e+04,\n",
       "       7.28000e+03, 1.08000e+04, 3.16000e+03, 4.64000e+03, 2.88260e+04,\n",
       "       1.35000e+03, 1.18000e+04, 1.08800e+03, 2.50000e+04, 1.16380e+04,\n",
       "       9.00000e+02, 2.40000e+03, 8.96900e+03, 2.62000e+03, 1.08767e+05,\n",
       "       1.62790e+04, 1.56500e+03, 1.79480e+04, 2.97100e+03, 1.12000e+04,\n",
       "       2.52000e+04, 1.27600e+03, 5.23100e+03, 9.60000e+03, 1.45000e+04,\n",
       "       2.80000e+04, 7.75040e+04, 8.50000e+02, 7.90000e+03, 5.03000e+03,\n",
       "       3.30740e+04, 8.95500e+03, 2.01100e+03, 5.50000e+03, 5.82500e+03,\n",
       "       5.16700e+03, 5.60000e+03, 3.64000e+03, 1.28260e+04, 4.40000e+03,\n",
       "       1.16000e+03, 2.28000e+04, 1.74900e+04, 3.18500e+04, 6.96000e+03,\n",
       "       6.72000e+03, 8.80000e+03, 1.95800e+04, 1.22380e+04, 1.18000e+03,\n",
       "       6.50000e+02, 4.07900e+03, 3.60000e+04, 3.02500e+04, 1.92500e+04,\n",
       "       1.45750e+04, 2.24200e+04, 5.40000e+03, 2.40000e+04, 1.52480e+04,\n",
       "       1.59600e+04, 2.88400e+03, 1.70000e+04, 2.60350e+04, 6.84000e+03,\n",
       "       1.38000e+04, 1.31100e+04, 1.14000e+07, 1.14000e+04, 1.73280e+04,\n",
       "       2.70000e+03, 1.08900e+04, 2.85000e+04, 3.75280e+04, 5.17500e+03,\n",
       "       7.41000e+03, 3.80500e+04, 1.23420e+04, 7.47500e+03, 2.17800e+04,\n",
       "       8.80800e+03, 1.21260e+04, 7.83200e+03, 9.51800e+03, 2.30000e+04,\n",
       "       1.42500e+04, 1.06610e+04, 8.79600e+03, 1.04400e+04, 1.71000e+03,\n",
       "       1.99500e+04, 7.43900e+03, 2.56500e+04, 8.08100e+03, 2.09880e+04,\n",
       "       2.58750e+04, 4.57300e+03, 8.55000e+03, 1.15000e+04, 1.11600e+04,\n",
       "       1.25400e+04, 8.94200e+03, 1.10000e+03, 1.45850e+04, 1.46600e+04,\n",
       "       1.18810e+04, 5.20600e+05, 3.74990e+04, 3.40000e+03, 9.71800e+03,\n",
       "       8.77500e+03, 9.80300e+03, 1.82040e+04, 1.72500e+04, 5.70000e+03,\n",
       "       1.74050e+04, 2.48220e+04, 6.90000e+03, 5.70000e+02, 2.55600e+03,\n",
       "       5.81900e+03, 1.60000e+04, 3.42000e+03, 1.04000e+04, 8.65400e+03,\n",
       "       5.26500e+03, 1.65000e+03, 4.95900e+03, 2.28000e+03, 1.11500e+04,\n",
       "       4.60000e+03, 3.13500e+03, 3.70000e+03, 2.45060e+04, 5.78500e+03,\n",
       "       3.04310e+04, 3.70500e+06, 3.48000e+03, 8.00000e+02, 1.53900e+06,\n",
       "       6.80000e+03, 8.69000e+03, 8.41500e+03, 1.03870e+04, 4.69600e+04,\n",
       "       1.62020e+04, 2.55630e+04, 3.75050e+04, 3.70500e+03, 5.44000e+02,\n",
       "       3.47100e+03, 1.63880e+04, 1.17400e+04, 2.31400e+03, 7.51200e+03,\n",
       "       1.63370e+04, 4.62800e+03, 2.06680e+04, 1.03800e+04, 8.12000e+03,\n",
       "       2.33200e+04, 3.64410e+04, 9.72000e+03, 8.10000e+03, 1.75800e+04,\n",
       "       3.16250e+04, 2.16000e+04, 4.62500e+03, 1.61460e+04, 1.78200e+04,\n",
       "       1.89000e+04, 2.70000e+04, 1.18800e+04, 1.10700e+04, 5.10000e+03,\n",
       "       7.07000e+02, 2.43000e+04, 2.95000e+04, 2.47250e+04, 1.86720e+04,\n",
       "       2.63790e+04, 2.05100e+04, 1.62000e+04, 1.03500e+04, 6.18100e+03,\n",
       "       5.98300e+03, 9.18000e+03, 5.85000e+03, 6.42400e+03, 2.06500e+04,\n",
       "       1.09990e+04, 1.86880e+04, 1.45800e+04, 1.60450e+04, 6.96000e+04,\n",
       "       8.05000e+03, 5.90000e+04, 2.36000e+05, 1.40400e+04, 9.35000e+03,\n",
       "       2.18690e+04, 1.83500e+04, 2.18500e+04, 8.24900e+03, 1.94700e+04,\n",
       "       1.50660e+04, 1.51200e+04, 2.26800e+04, 1.94400e+04, 6.59900e+03,\n",
       "       4.31250e+04, 2.05200e+04, 2.44380e+04, 1.16100e+04, 2.16000e+03,\n",
       "       5.94000e+03, 8.89300e+03, 1.43570e+04, 1.72800e+04, 1.68610e+04,\n",
       "       1.32300e+04, 5.48100e+03, 1.13960e+04, 1.98380e+04, 5.80500e+03,\n",
       "       2.32000e+04, 7.01900e+03, 1.89750e+04, 4.22650e+04, 2.03960e+04,\n",
       "       1.47770e+04, 5.76300e+03, 1.30260e+04, 1.43750e+04, 2.99000e+04,\n",
       "       5.69800e+03, 1.72260e+04, 2.44800e+03, 1.15500e+04, 1.77000e+04,\n",
       "       3.80000e+03, 3.18180e+04, 2.01070e+04, 2.10240e+04, 4.00000e+02,\n",
       "       4.05000e+04, 1.47860e+04, 7.02000e+03, 4.35110e+04, 6.89500e+03,\n",
       "       8.54700e+03, 7.02000e+02, 3.77900e+03, 1.14210e+04, 1.79484e+05,\n",
       "       1.90400e+03, 7.56000e+02, 1.78250e+04, 1.02600e+03, 5.40000e+02,\n",
       "       2.82500e+03, 2.00680e+04, 1.42980e+04, 2.01250e+04, 2.61000e+04,\n",
       "       1.88940e+04, 1.24200e+04, 1.48500e+04, 4.59000e+03, 2.97000e+04,\n",
       "       1.21500e+04, 1.53900e+03, 8.91000e+03, 8.64000e+03, 2.84900e+03,\n",
       "       6.48000e+03, 2.28430e+04, 1.05300e+04, 1.29600e+04, 8.52500e+03,\n",
       "       2.01240e+04, 2.32200e+04, 1.07250e+04, 1.05000e+04, 2.31030e+04,\n",
       "       5.49900e+03, 1.42450e+04, 8.07300e+03, 1.77120e+04, 4.86000e+03,\n",
       "       9.72000e+02, 1.57730e+04, 7.34300e+03, 1.72800e+03, 8.50000e+04,\n",
       "       2.76240e+04, 6.48000e+02, 8.91300e+03, 2.14840e+04, 2.30550e+04,\n",
       "       1.31050e+04, 4.55800e+03, 8.10000e+02, 8.57900e+03, 2.50190e+04,\n",
       "       3.42120e+04, 8.34300e+03, 3.41800e+03, 6.60000e+03, 3.78000e+04,\n",
       "       2.10600e+04, 3.51000e+04, 7.18800e+03, 1.52380e+04, 2.25000e+03,\n",
       "       3.50000e+04, 4.50000e+02, 4.25000e+04, 1.90000e+04, 3.99500e+04,\n",
       "       9.79000e+02, 9.90000e+03, 1.90000e+03, 2.04000e+04, 1.27000e+04,\n",
       "       2.03000e+04, 5.38000e+02])"
      ]
     },
     "execution_count": 28,
     "metadata": {},
     "output_type": "execute_result"
    }
   ],
   "source": [
    "gh_housing[\"prices\"].unique()"
   ]
  },
  {
   "cell_type": "code",
   "execution_count": 29,
   "metadata": {},
   "outputs": [
    {
     "data": {
      "text/plain": [
       "0"
      ]
     },
     "execution_count": 29,
     "metadata": {},
     "output_type": "execute_result"
    }
   ],
   "source": [
    "gh_housing[\"prices\"].isna().sum()"
   ]
  },
  {
   "cell_type": "code",
   "execution_count": 30,
   "metadata": {},
   "outputs": [],
   "source": [
    "#converting prices column from float to integer.\n",
    "\n",
    "gh_housing.prices = gh_housing.prices.astype(np.int64)"
   ]
  },
  {
   "cell_type": "code",
   "execution_count": 31,
   "metadata": {},
   "outputs": [
    {
     "data": {
      "text/plain": [
       "array([   13597,     4351,     3807,     5300,     3000,     8000,\n",
       "           2195,    38072,     5820,    24475,      700,     5037,\n",
       "          21756,     1740,     1500,    27195,     8090,    16317,\n",
       "           4700,    26107,    17400,     1400,     4000,    32633,\n",
       "          19036,     7150,    16500,     7000,    14000,     2000,\n",
       "          23387,     5439,    15000,    39160,    11558,     2500,\n",
       "           2176,     8158,     2800,    35750,     2719,    35353,\n",
       "           8267,     7614,     9790,     1800,     3263,     1700,\n",
       "          10878,     1000,      750,      980,     9800,    11966,\n",
       "           8400,     1300,    19600,     3780,    12509,      500,\n",
       "           4623,    16194,    12046,     8670,     1560,    13053,\n",
       "          10691,     7071,     4500,     1200,     5130,    44250,\n",
       "           6799,    14750,      816,     4370,     3500,    13409,\n",
       "          13000,    11000,    17100,    11422,     8260,     3535,\n",
       "          29914,     8700,      600,     6000,     2991,     5800,\n",
       "           7800,     8728,    16141,    25195,    22000,    17370,\n",
       "          11600,    13400,     3990,     4669,    21000,    26550,\n",
       "          19900,    13500,      698,    17610,     2600,     2850,\n",
       "          14141,     8702,     5000,    22500,     4060,     4895,\n",
       "          17149,    17337,    17404,    17300,     9690,     5847,\n",
       "           9246,    10334,    11529,     6527,    12892,     3200,\n",
       "           2200,    30000,     2300,    54389,    31762,     1600,\n",
       "           1632,    19852,    22400,    14650,     8500,     3820,\n",
       "          23165,    18492,    12000,     1360,    16800,     8822,\n",
       "          20000,    10404,    23600,    13750,     4200,     9884,\n",
       "          23163,    33000,    13200,    15229,     7500,     8751,\n",
       "           8721,     1450,    14200,     9000,    23300,      885,\n",
       "          40250,     3185,    14685,     7280,    10800,     3160,\n",
       "           4640,    28826,     1350,    11800,     1088,    25000,\n",
       "          11638,      900,     2400,     8969,     2620,   108767,\n",
       "          16279,     1565,    17948,     2971,    11200,    25200,\n",
       "           1276,     5231,     9600,    14500,    28000,    77504,\n",
       "            850,     7900,     5030,    33074,     8955,     2011,\n",
       "           5500,     5825,     5167,     5600,     3640,    12826,\n",
       "           4400,     1160,    22800,    17490,    31850,     6960,\n",
       "           6720,     8800,    19580,    12238,     1180,      650,\n",
       "           4079,    36000,    30250,    19250,    14575,    22420,\n",
       "           5400,    24000,    15248,    15960,     2884,    17000,\n",
       "          26035,     6840,    13800,    13110, 11400000,    11400,\n",
       "          17328,     2700,    10890,    28500,    37528,     5175,\n",
       "           7410,    38050,    12342,     7475,    21780,     8808,\n",
       "          12126,     7832,     9518,    23000,    14250,    10661,\n",
       "           8796,    10440,     1710,    19950,     7439,    25650,\n",
       "           8081,    20988,    25875,     4573,     8550,    11500,\n",
       "          11160,    12540,     8942,     1100,    14585,    14660,\n",
       "          11881,   520600,    37499,     3400,     9718,     8775,\n",
       "           9803,    18204,    17250,     5700,    17405,    24822,\n",
       "           6900,      570,     2556,     5819,    16000,     3420,\n",
       "          10400,     8654,     5265,     1650,     4959,     2280,\n",
       "          11150,     4600,     3135,     3700,    24506,     5785,\n",
       "          30431,  3705000,     3480,      800,  1539000,     6800,\n",
       "           8690,     8415,    10387,    46960,    16202,    25563,\n",
       "          37505,     3705,      544,     3471,    16388,    11740,\n",
       "           2314,     7512,    16337,     4628,    20668,    10380,\n",
       "           8120,    23320,    36441,     9720,     8100,    17580,\n",
       "          31625,    21600,     4625,    16146,    17820,    18900,\n",
       "          27000,    11880,    11070,     5100,      707,    24300,\n",
       "          29500,    24725,    18672,    26379,    20510,    16200,\n",
       "          10350,     6181,     5983,     9180,     5850,     6424,\n",
       "          20650,    10999,    18688,    14580,    16045,    69600,\n",
       "           8050,    59000,   236000,    14040,     9350,    21869,\n",
       "          18350,    21850,     8249,    19470,    15066,    15120,\n",
       "          22680,    19440,     6599,    43125,    20520,    24438,\n",
       "          11610,     2160,     5940,     8893,    14357,    17280,\n",
       "          16861,    13230,     5481,    11396,    19838,     5805,\n",
       "          23200,     7019,    18975,    42265,    20396,    14777,\n",
       "           5763,    13026,    14375,    29900,     5698,    17226,\n",
       "           2448,    11550,    17700,     3800,    31818,    20107,\n",
       "          21024,      400,    40500,    14786,     7020,    43511,\n",
       "           6895,     8547,      702,     3779,    11421,   179484,\n",
       "           1904,      756,    17825,     1026,      540,     2825,\n",
       "          20068,    14298,    20125,    26100,    18894,    12420,\n",
       "          14850,     4590,    29700,    12150,     1539,     8910,\n",
       "           8640,     2849,     6480,    22843,    10530,    12960,\n",
       "           8525,    20124,    23220,    10725,    10500,    23103,\n",
       "           5499,    14245,     8073,    17712,     4860,      972,\n",
       "          15773,     7343,     1728,    85000,    27624,      648,\n",
       "           8913,    21484,    23055,    13105,     4558,      810,\n",
       "           8579,    25019,    34212,     8343,     3418,     6600,\n",
       "          37800,    21060,    35100,     7188,    15238,     2250,\n",
       "          35000,      450,    42500,    19000,    39950,      979,\n",
       "           9900,     1900,    20400,    12700,    20300,      538],\n",
       "      dtype=int64)"
      ]
     },
     "execution_count": 31,
     "metadata": {},
     "output_type": "execute_result"
    }
   ],
   "source": [
    "gh_housing[\"prices\"].unique()"
   ]
  },
  {
   "cell_type": "markdown",
   "metadata": {},
   "source": [
    "### Cleaning 'Commission' Column"
   ]
  },
  {
   "cell_type": "code",
   "execution_count": 32,
   "metadata": {},
   "outputs": [],
   "source": [
    "# removing \"%\" character from the commission column\n",
    "\n",
    "gh_housing[\"commission\"] = gh_housing.commission.apply(lambda x: str(x).replace('%', '') if '%' in str(x) else str(x))"
   ]
  },
  {
   "cell_type": "code",
   "execution_count": 33,
   "metadata": {},
   "outputs": [
    {
     "data": {
      "text/plain": [
       "0       10.00\n",
       "1       10.00\n",
       "2       10.00\n",
       "3       10.00\n",
       "4       10.00\n",
       "        ...  \n",
       "2068    10.00\n",
       "2069    10.00\n",
       "2070    10.00\n",
       "2071    10.00\n",
       "2072    10.00\n",
       "Name: commission, Length: 2051, dtype: object"
      ]
     },
     "execution_count": 33,
     "metadata": {},
     "output_type": "execute_result"
    }
   ],
   "source": [
    "gh_housing.commission"
   ]
  },
  {
   "cell_type": "code",
   "execution_count": 34,
   "metadata": {},
   "outputs": [],
   "source": [
    "#Converting \"commission\" column to numeric\n",
    "\n",
    "gh_housing[\"commission\"] = pd.to_numeric(gh_housing[\"commission\"], errors = 'coerce', downcast = \"integer\")"
   ]
  },
  {
   "cell_type": "code",
   "execution_count": 35,
   "metadata": {},
   "outputs": [
    {
     "data": {
      "text/plain": [
       "dtype('float64')"
      ]
     },
     "execution_count": 35,
     "metadata": {},
     "output_type": "execute_result"
    }
   ],
   "source": [
    "#checking the data-type\n",
    "\n",
    "gh_housing.commission.dtype"
   ]
  },
  {
   "cell_type": "code",
   "execution_count": 36,
   "metadata": {},
   "outputs": [
    {
     "data": {
      "text/plain": [
       "584"
      ]
     },
     "execution_count": 36,
     "metadata": {},
     "output_type": "execute_result"
    }
   ],
   "source": [
    "# Checking the total number of null-values\n",
    "\n",
    "gh_housing.commission.isna().sum()"
   ]
  },
  {
   "cell_type": "markdown",
   "metadata": {},
   "source": [
    "This number indicates the total number of houses or apartments on which commission was not charged. These would be filled with zeros."
   ]
  },
  {
   "cell_type": "code",
   "execution_count": 37,
   "metadata": {},
   "outputs": [],
   "source": [
    "# Filling the null-values of commission with zeros\n",
    "\n",
    "gh_housing[\"commission\"].fillna(value = 0, inplace = True)"
   ]
  },
  {
   "cell_type": "code",
   "execution_count": 38,
   "metadata": {},
   "outputs": [
    {
     "data": {
      "text/plain": [
       "0"
      ]
     },
     "execution_count": 38,
     "metadata": {},
     "output_type": "execute_result"
    }
   ],
   "source": [
    "gh_housing.commission.isna().sum()"
   ]
  },
  {
   "cell_type": "markdown",
   "metadata": {},
   "source": [
    "All null-values have been filled with zeros, hence there are no nan-values in the column."
   ]
  },
  {
   "cell_type": "markdown",
   "metadata": {},
   "source": [
    "### Cleaning \"bedrooms\" , \"bathrooms\" & \"garage\" Columns:"
   ]
  },
  {
   "cell_type": "code",
   "execution_count": 39,
   "metadata": {},
   "outputs": [
    {
     "name": "stdout",
     "output_type": "stream",
     "text": [
      "Number of missing values in bedrooms column : 0\n",
      "Number of missing values in bathrooms column : 15\n",
      "Number of missing values in garage column : 35\n"
     ]
    }
   ],
   "source": [
    "# Checking all null values in the above mentioned columns\n",
    "\n",
    "print(f'Number of missing values in bedrooms column : {gh_housing.bedrooms.isna().sum()}')\n",
    "print(f'Number of missing values in bathrooms column : {gh_housing.bathrooms.isna().sum()}')\n",
    "print(f'Number of missing values in garage column : {gh_housing.garage.isna().sum()}') "
   ]
  },
  {
   "cell_type": "code",
   "execution_count": 40,
   "metadata": {},
   "outputs": [],
   "source": [
    "# Filling all missing values:\n",
    "\n",
    "gh_housing[\"bathrooms\"].fillna(value = 1, inplace = True)\n",
    "gh_housing[\"garage\"].fillna(value = 0, inplace = True)"
   ]
  },
  {
   "cell_type": "code",
   "execution_count": 41,
   "metadata": {},
   "outputs": [
    {
     "name": "stdout",
     "output_type": "stream",
     "text": [
      "Number of missing values in bedrooms column after filling : 0\n",
      "Number of missing values in bathrooms column after filling : 0\n",
      "Number of missing values in garage column after filling : 0\n"
     ]
    }
   ],
   "source": [
    "# Checking number of missing values after filling-in\n",
    "\n",
    "print(f'Number of missing values in bedrooms column after filling : {gh_housing.bedrooms.isna().sum()}')\n",
    "print(f'Number of missing values in bathrooms column after filling : {gh_housing.bathrooms.isna().sum()}')\n",
    "print(f'Number of missing values in garage column after filling : {gh_housing.garage.isna().sum()}') "
   ]
  },
  {
   "cell_type": "code",
   "execution_count": 42,
   "metadata": {},
   "outputs": [],
   "source": [
    "#converting \"bedrooms\" ,\"bathrooms\" and \"garage\" columns to numeric\n",
    "\n",
    "gh_housing[\"bedrooms\"] = pd.to_numeric(gh_housing[\"bedrooms\"], downcast = \"integer\")\n",
    "gh_housing[\"bathrooms\"] = pd.to_numeric(gh_housing[\"bathrooms\"], downcast = \"integer\")\n",
    "gh_housing[\"garage\"] = pd.to_numeric(gh_housing[\"garage\"], downcast = \"integer\")"
   ]
  },
  {
   "cell_type": "code",
   "execution_count": 43,
   "metadata": {},
   "outputs": [
    {
     "name": "stdout",
     "output_type": "stream",
     "text": [
      "The Datatype for Number of bedrooms is now : int8\n",
      "The Datatype for Number of bathrooms is now : int8\n",
      "The Datatype for Number of garage is now : int16\n"
     ]
    }
   ],
   "source": [
    "# Checking the datatype of the columns converted\n",
    "\n",
    "print(f'The Datatype for Number of bedrooms is now : {gh_housing[\"bedrooms\"].dtype}') \n",
    "print(f'The Datatype for Number of bathrooms is now : {gh_housing[\"bathrooms\"].dtype}') \n",
    "print(f'The Datatype for Number of garage is now : {gh_housing[\"garage\"].dtype}') "
   ]
  },
  {
   "cell_type": "code",
   "execution_count": 44,
   "metadata": {},
   "outputs": [
    {
     "data": {
      "text/html": [
       "<div>\n",
       "<style scoped>\n",
       "    .dataframe tbody tr th:only-of-type {\n",
       "        vertical-align: middle;\n",
       "    }\n",
       "\n",
       "    .dataframe tbody tr th {\n",
       "        vertical-align: top;\n",
       "    }\n",
       "\n",
       "    .dataframe thead th {\n",
       "        text-align: right;\n",
       "    }\n",
       "</style>\n",
       "<table border=\"1\" class=\"dataframe\">\n",
       "  <thead>\n",
       "    <tr style=\"text-align: right;\">\n",
       "      <th></th>\n",
       "      <th>bedrooms</th>\n",
       "      <th>bathrooms</th>\n",
       "      <th>garage</th>\n",
       "    </tr>\n",
       "  </thead>\n",
       "  <tbody>\n",
       "    <tr>\n",
       "      <td>0</td>\n",
       "      <td>2</td>\n",
       "      <td>2</td>\n",
       "      <td>0</td>\n",
       "    </tr>\n",
       "    <tr>\n",
       "      <td>1</td>\n",
       "      <td>3</td>\n",
       "      <td>4</td>\n",
       "      <td>2</td>\n",
       "    </tr>\n",
       "    <tr>\n",
       "      <td>2</td>\n",
       "      <td>3</td>\n",
       "      <td>2</td>\n",
       "      <td>0</td>\n",
       "    </tr>\n",
       "    <tr>\n",
       "      <td>3</td>\n",
       "      <td>2</td>\n",
       "      <td>3</td>\n",
       "      <td>2</td>\n",
       "    </tr>\n",
       "    <tr>\n",
       "      <td>4</td>\n",
       "      <td>4</td>\n",
       "      <td>1</td>\n",
       "      <td>0</td>\n",
       "    </tr>\n",
       "    <tr>\n",
       "      <td>...</td>\n",
       "      <td>...</td>\n",
       "      <td>...</td>\n",
       "      <td>...</td>\n",
       "    </tr>\n",
       "    <tr>\n",
       "      <td>2068</td>\n",
       "      <td>5</td>\n",
       "      <td>5</td>\n",
       "      <td>0</td>\n",
       "    </tr>\n",
       "    <tr>\n",
       "      <td>2069</td>\n",
       "      <td>6</td>\n",
       "      <td>6</td>\n",
       "      <td>0</td>\n",
       "    </tr>\n",
       "    <tr>\n",
       "      <td>2070</td>\n",
       "      <td>4</td>\n",
       "      <td>2</td>\n",
       "      <td>0</td>\n",
       "    </tr>\n",
       "    <tr>\n",
       "      <td>2071</td>\n",
       "      <td>5</td>\n",
       "      <td>5</td>\n",
       "      <td>0</td>\n",
       "    </tr>\n",
       "    <tr>\n",
       "      <td>2072</td>\n",
       "      <td>5</td>\n",
       "      <td>6</td>\n",
       "      <td>1</td>\n",
       "    </tr>\n",
       "  </tbody>\n",
       "</table>\n",
       "<p>2051 rows × 3 columns</p>\n",
       "</div>"
      ],
      "text/plain": [
       "      bedrooms  bathrooms  garage\n",
       "0            2          2       0\n",
       "1            3          4       2\n",
       "2            3          2       0\n",
       "3            2          3       2\n",
       "4            4          1       0\n",
       "...        ...        ...     ...\n",
       "2068         5          5       0\n",
       "2069         6          6       0\n",
       "2070         4          2       0\n",
       "2071         5          5       0\n",
       "2072         5          6       1\n",
       "\n",
       "[2051 rows x 3 columns]"
      ]
     },
     "execution_count": 44,
     "metadata": {},
     "output_type": "execute_result"
    }
   ],
   "source": [
    "gh_housing[[\"bedrooms\", \"bathrooms\", \"garage\"]]"
   ]
  },
  {
   "cell_type": "code",
   "execution_count": 45,
   "metadata": {},
   "outputs": [
    {
     "data": {
      "text/html": [
       "<div>\n",
       "<style scoped>\n",
       "    .dataframe tbody tr th:only-of-type {\n",
       "        vertical-align: middle;\n",
       "    }\n",
       "\n",
       "    .dataframe tbody tr th {\n",
       "        vertical-align: top;\n",
       "    }\n",
       "\n",
       "    .dataframe thead th {\n",
       "        text-align: right;\n",
       "    }\n",
       "</style>\n",
       "<table border=\"1\" class=\"dataframe\">\n",
       "  <thead>\n",
       "    <tr style=\"text-align: right;\">\n",
       "      <th></th>\n",
       "      <th>property_name</th>\n",
       "      <th>prices</th>\n",
       "      <th>commission</th>\n",
       "      <th>bedrooms</th>\n",
       "      <th>bathrooms</th>\n",
       "      <th>garage</th>\n",
       "      <th>amenities</th>\n",
       "      <th>address</th>\n",
       "      <th>area</th>\n",
       "    </tr>\n",
       "  </thead>\n",
       "  <tbody>\n",
       "    <tr>\n",
       "      <td>0</td>\n",
       "      <td>2 bedroom furnished apartment for rent at null...</td>\n",
       "      <td>13597</td>\n",
       "      <td>10.0</td>\n",
       "      <td>2</td>\n",
       "      <td>2</td>\n",
       "      <td>0</td>\n",
       "      <td>Kitchen cabinets\\nClosets\\nCooker\\nKitchen\\nSw...</td>\n",
       "      <td>null Area</td>\n",
       "      <td>900 m2</td>\n",
       "    </tr>\n",
       "    <tr>\n",
       "      <td>1</td>\n",
       "      <td>3 bedroom apartment for rent at East Legon - T...</td>\n",
       "      <td>4351</td>\n",
       "      <td>10.0</td>\n",
       "      <td>3</td>\n",
       "      <td>4</td>\n",
       "      <td>2</td>\n",
       "      <td>Air conditioning\\nCooker\\nWashing machine\\nFan...</td>\n",
       "      <td>East Legon</td>\n",
       "      <td>1,000 m2</td>\n",
       "    </tr>\n",
       "    <tr>\n",
       "      <td>2</td>\n",
       "      <td>3 bedroom house for rent at East Legon</td>\n",
       "      <td>3807</td>\n",
       "      <td>10.0</td>\n",
       "      <td>3</td>\n",
       "      <td>2</td>\n",
       "      <td>0</td>\n",
       "      <td>Air conditioning\\nCooker\\nInternet\\nGarden\\nGa...</td>\n",
       "      <td>East Legon</td>\n",
       "      <td>NaN</td>\n",
       "    </tr>\n",
       "    <tr>\n",
       "      <td>3</td>\n",
       "      <td>2 bedroom furnished house for rent at East Legon</td>\n",
       "      <td>5300</td>\n",
       "      <td>10.0</td>\n",
       "      <td>2</td>\n",
       "      <td>3</td>\n",
       "      <td>2</td>\n",
       "      <td>Air conditioning\\nCooker\\nWashing machine\\nFan...</td>\n",
       "      <td>East Legon</td>\n",
       "      <td>900 m2</td>\n",
       "    </tr>\n",
       "    <tr>\n",
       "      <td>4</td>\n",
       "      <td>4 bedroom house for rent at Ashongman</td>\n",
       "      <td>3000</td>\n",
       "      <td>10.0</td>\n",
       "      <td>4</td>\n",
       "      <td>1</td>\n",
       "      <td>0</td>\n",
       "      <td>Water reservoir</td>\n",
       "      <td>Ashongman</td>\n",
       "      <td>NaN</td>\n",
       "    </tr>\n",
       "  </tbody>\n",
       "</table>\n",
       "</div>"
      ],
      "text/plain": [
       "                                       property_name  prices  commission  \\\n",
       "0  2 bedroom furnished apartment for rent at null...   13597        10.0   \n",
       "1  3 bedroom apartment for rent at East Legon - T...    4351        10.0   \n",
       "2             3 bedroom house for rent at East Legon    3807        10.0   \n",
       "3   2 bedroom furnished house for rent at East Legon    5300        10.0   \n",
       "4              4 bedroom house for rent at Ashongman    3000        10.0   \n",
       "\n",
       "   bedrooms  bathrooms  garage  \\\n",
       "0         2          2       0   \n",
       "1         3          4       2   \n",
       "2         3          2       0   \n",
       "3         2          3       2   \n",
       "4         4          1       0   \n",
       "\n",
       "                                           amenities     address      area  \n",
       "0  Kitchen cabinets\\nClosets\\nCooker\\nKitchen\\nSw...   null Area    900 m2  \n",
       "1  Air conditioning\\nCooker\\nWashing machine\\nFan...  East Legon  1,000 m2  \n",
       "2  Air conditioning\\nCooker\\nInternet\\nGarden\\nGa...  East Legon       NaN  \n",
       "3  Air conditioning\\nCooker\\nWashing machine\\nFan...  East Legon    900 m2  \n",
       "4                                    Water reservoir   Ashongman       NaN  "
      ]
     },
     "execution_count": 45,
     "metadata": {},
     "output_type": "execute_result"
    }
   ],
   "source": [
    "gh_housing.head()"
   ]
  },
  {
   "cell_type": "markdown",
   "metadata": {},
   "source": [
    "### Cleaning \"Amenities\" Column :"
   ]
  },
  {
   "cell_type": "code",
   "execution_count": 46,
   "metadata": {},
   "outputs": [],
   "source": [
    "# Removing \"\\n\" character from \"amenities\" Column:\n",
    "\n",
    "gh_housing.amenities = gh_housing.amenities.apply(lambda x: str(x).replace('\\n', ' ') if '\\n' in str(x) else str(x))"
   ]
  },
  {
   "cell_type": "code",
   "execution_count": 47,
   "metadata": {
    "scrolled": true
   },
   "outputs": [
    {
     "data": {
      "text/plain": [
       "0    Kitchen cabinets Closets Cooker Kitchen Swimmi...\n",
       "1    Air conditioning Cooker Washing machine Fans I...\n",
       "2    Air conditioning Cooker Internet Garden Garage...\n",
       "3    Air conditioning Cooker Washing machine Fans R...\n",
       "4                                      Water reservoir\n",
       "Name: amenities, dtype: object"
      ]
     },
     "execution_count": 47,
     "metadata": {},
     "output_type": "execute_result"
    }
   ],
   "source": [
    "gh_housing.amenities.head()"
   ]
  },
  {
   "cell_type": "code",
   "execution_count": 48,
   "metadata": {},
   "outputs": [],
   "source": [
    "# Filling NaN values in amenities column\n",
    "\n",
    "gh_housing[\"amenities\"].fillna(value = 'Basic', inplace = True)"
   ]
  },
  {
   "cell_type": "code",
   "execution_count": 49,
   "metadata": {},
   "outputs": [],
   "source": [
    "#gh_housing.amenities.isna().sum()"
   ]
  },
  {
   "cell_type": "code",
   "execution_count": 50,
   "metadata": {},
   "outputs": [],
   "source": [
    "#gh_housing.amenities.unique()"
   ]
  },
  {
   "cell_type": "markdown",
   "metadata": {},
   "source": [
    "### Cleaning \"area\" Column :"
   ]
  },
  {
   "cell_type": "code",
   "execution_count": 51,
   "metadata": {},
   "outputs": [
    {
     "data": {
      "text/plain": [
       "0                        900 m2\n",
       "1                      1,000 m2\n",
       "2                           NaN\n",
       "3                        900 m2\n",
       "4                           NaN\n",
       "5                      1,300 m2\n",
       "6                           NaN\n",
       "7                         49 m2\n",
       "8                        800 m2\n",
       "9                           NaN\n",
       "10                          NaN\n",
       "11                          NaN\n",
       "12                          NaN\n",
       "13                     2,503 m2\n",
       "14                          NaN\n",
       "15                          NaN\n",
       "16                     1,200 m2\n",
       "17                          NaN\n",
       "18                     3,000 m2\n",
       "19                          NaN\n",
       "20                       700 m2\n",
       "21                       700 m2\n",
       "22                     4,000 m2\n",
       "23                          NaN\n",
       "24                          NaN\n",
       "25                     1,200 m2\n",
       "26                          NaN\n",
       "27                     4,000 m2\n",
       "28                     1,500 m2\n",
       "29                          NaN\n",
       "30                          NaN\n",
       "31                          NaN\n",
       "32                          NaN\n",
       "33                       600 m2\n",
       "34                          NaN\n",
       "35                     1,500 m2\n",
       "36                         1 m2\n",
       "37                       250 m2\n",
       "38                          NaN\n",
       "39                        18 m2\n",
       "40                          NaN\n",
       "41                          NaN\n",
       "42                          NaN\n",
       "43                     4,300 m2\n",
       "44                     1,000 m2\n",
       "45    null\\n\\nnull in null Area\n",
       "46                          NaN\n",
       "47                       400 m2\n",
       "48                          NaN\n",
       "49                       150 m2\n",
       "Name: area, dtype: object"
      ]
     },
     "execution_count": 51,
     "metadata": {},
     "output_type": "execute_result"
    }
   ],
   "source": [
    "gh_housing.area.head(50)"
   ]
  },
  {
   "cell_type": "code",
   "execution_count": 52,
   "metadata": {
    "scrolled": true
   },
   "outputs": [
    {
     "data": {
      "text/plain": [
       "784"
      ]
     },
     "execution_count": 52,
     "metadata": {},
     "output_type": "execute_result"
    }
   ],
   "source": [
    "# Checking null-values or inconsistent values showing as null-values:\n",
    "\n",
    "gh_housing.area.isna().sum()"
   ]
  },
  {
   "cell_type": "markdown",
   "metadata": {},
   "source": [
    "It is seen that **784** houses do not have their sizes in the dataset, hence a step would be used to make an intelligent guess of them using the houses that it has equal number of bedrooms with."
   ]
  },
  {
   "cell_type": "code",
   "execution_count": 53,
   "metadata": {},
   "outputs": [],
   "source": [
    "# Removing \" ,\" and \"m2\" character from the column:\n",
    "\n",
    "gh_housing.area = gh_housing.area.str.replace(\",\", \"\")\n",
    "gh_housing.area = gh_housing.area.str.replace(\"m2\", \"\")"
   ]
  },
  {
   "cell_type": "code",
   "execution_count": 54,
   "metadata": {},
   "outputs": [],
   "source": [
    "gh_housing[\"area\"] = pd.to_numeric(gh_housing[\"area\"], errors = 'coerce',downcast = \"integer\")"
   ]
  },
  {
   "cell_type": "code",
   "execution_count": 55,
   "metadata": {},
   "outputs": [],
   "source": [
    "# Replace missing values of area column with the mean of the area with the same number of bedrooms:\n",
    "\n",
    "housefillna = pd.Series()\n",
    "num_bedrooms = gh_housing.bedrooms.unique()\n",
    "\n",
    "for num_bedroom in num_bedrooms:\n",
    "        try:\n",
    "            batch = (gh_housing.bedrooms == num_bedroom)\n",
    "            h = gh_housing[batch][\"area\"].fillna(gh_housing[batch][\"area\"].mean())\n",
    "            housefillna = housefillna.append(h)\n",
    "        except:\n",
    "            housefillna = housefillna.append(gh_housing[batch][\"area\"])\n",
    "\n",
    "gh_housing[\"area\"] = housefillna"
   ]
  },
  {
   "cell_type": "code",
   "execution_count": 56,
   "metadata": {},
   "outputs": [
    {
     "data": {
      "text/plain": [
       "9"
      ]
     },
     "execution_count": 56,
     "metadata": {},
     "output_type": "execute_result"
    }
   ],
   "source": [
    "# checking null-values again after filling\n",
    "gh_housing.area.isna().sum()"
   ]
  },
  {
   "cell_type": "markdown",
   "metadata": {},
   "source": [
    "It can be seen that the null/missing values after filling above have reduced drastically from **784** to **9**. These would then dropped to allow for smooth analysis."
   ]
  },
  {
   "cell_type": "code",
   "execution_count": 57,
   "metadata": {},
   "outputs": [],
   "source": [
    "# Removing the row containing inconsistent/null data:\n",
    "\n",
    "gh_housing.dropna(subset = ['area'], inplace = True)"
   ]
  },
  {
   "cell_type": "code",
   "execution_count": 58,
   "metadata": {},
   "outputs": [
    {
     "data": {
      "text/plain": [
       "0"
      ]
     },
     "execution_count": 58,
     "metadata": {},
     "output_type": "execute_result"
    }
   ],
   "source": [
    "# checking null-values again after dropping them\n",
    "gh_housing.area.isna().sum()"
   ]
  },
  {
   "cell_type": "code",
   "execution_count": 59,
   "metadata": {},
   "outputs": [
    {
     "data": {
      "text/plain": [
       "dtype('float64')"
      ]
     },
     "execution_count": 59,
     "metadata": {},
     "output_type": "execute_result"
    }
   ],
   "source": [
    "gh_housing.area.dtype"
   ]
  },
  {
   "cell_type": "code",
   "execution_count": 60,
   "metadata": {
    "scrolled": true
   },
   "outputs": [
    {
     "data": {
      "text/plain": [
       "<bound method Series.unique of 0        900.000000\n",
       "1       1000.000000\n",
       "2        664.438944\n",
       "3        900.000000\n",
       "4        814.217391\n",
       "           ...     \n",
       "2068     300.000000\n",
       "2069     300.000000\n",
       "2070     200.000000\n",
       "2071     300.000000\n",
       "2072     300.000000\n",
       "Name: area, Length: 2042, dtype: float64>"
      ]
     },
     "execution_count": 60,
     "metadata": {},
     "output_type": "execute_result"
    }
   ],
   "source": [
    "gh_housing.area.unique"
   ]
  },
  {
   "cell_type": "code",
   "execution_count": 61,
   "metadata": {
    "scrolled": true
   },
   "outputs": [
    {
     "data": {
      "text/html": [
       "<div>\n",
       "<style scoped>\n",
       "    .dataframe tbody tr th:only-of-type {\n",
       "        vertical-align: middle;\n",
       "    }\n",
       "\n",
       "    .dataframe tbody tr th {\n",
       "        vertical-align: top;\n",
       "    }\n",
       "\n",
       "    .dataframe thead th {\n",
       "        text-align: right;\n",
       "    }\n",
       "</style>\n",
       "<table border=\"1\" class=\"dataframe\">\n",
       "  <thead>\n",
       "    <tr style=\"text-align: right;\">\n",
       "      <th></th>\n",
       "      <th>property_name</th>\n",
       "      <th>prices</th>\n",
       "      <th>commission</th>\n",
       "      <th>bedrooms</th>\n",
       "      <th>bathrooms</th>\n",
       "      <th>garage</th>\n",
       "      <th>amenities</th>\n",
       "      <th>address</th>\n",
       "      <th>area</th>\n",
       "    </tr>\n",
       "  </thead>\n",
       "  <tbody>\n",
       "    <tr>\n",
       "      <td>36</td>\n",
       "      <td>4 bedroom house for rent at null Hills</td>\n",
       "      <td>32633</td>\n",
       "      <td>10.0</td>\n",
       "      <td>4</td>\n",
       "      <td>4</td>\n",
       "      <td>2</td>\n",
       "      <td>Air conditioning Cooker Washing machine Fans R...</td>\n",
       "      <td>null Hills</td>\n",
       "      <td>1.0</td>\n",
       "    </tr>\n",
       "    <tr>\n",
       "      <td>653</td>\n",
       "      <td>2 bedroom apartment for rent at Teshie BUSHROAD</td>\n",
       "      <td>3263</td>\n",
       "      <td>10.0</td>\n",
       "      <td>2</td>\n",
       "      <td>3</td>\n",
       "      <td>2</td>\n",
       "      <td>Air conditioning Fans Generator Water reservoir</td>\n",
       "      <td>Teshie</td>\n",
       "      <td>1.0</td>\n",
       "    </tr>\n",
       "    <tr>\n",
       "      <td>1162</td>\n",
       "      <td>1 bedroom apartment for rent at Eastlegon</td>\n",
       "      <td>4079</td>\n",
       "      <td>10.0</td>\n",
       "      <td>1</td>\n",
       "      <td>1</td>\n",
       "      <td>1</td>\n",
       "      <td>Air conditioning Cooker Washing machine Fans R...</td>\n",
       "      <td>East Legon</td>\n",
       "      <td>1.0</td>\n",
       "    </tr>\n",
       "    <tr>\n",
       "      <td>1696</td>\n",
       "      <td>3 bedroom apartment for rent at North Legon</td>\n",
       "      <td>3000</td>\n",
       "      <td>10.0</td>\n",
       "      <td>3</td>\n",
       "      <td>3</td>\n",
       "      <td>0</td>\n",
       "      <td>Air Conditioning</td>\n",
       "      <td>North Legon</td>\n",
       "      <td>1.0</td>\n",
       "    </tr>\n",
       "  </tbody>\n",
       "</table>\n",
       "</div>"
      ],
      "text/plain": [
       "                                        property_name  prices  commission  \\\n",
       "36             4 bedroom house for rent at null Hills   32633        10.0   \n",
       "653   2 bedroom apartment for rent at Teshie BUSHROAD    3263        10.0   \n",
       "1162        1 bedroom apartment for rent at Eastlegon    4079        10.0   \n",
       "1696      3 bedroom apartment for rent at North Legon    3000        10.0   \n",
       "\n",
       "      bedrooms  bathrooms  garage  \\\n",
       "36           4          4       2   \n",
       "653          2          3       2   \n",
       "1162         1          1       1   \n",
       "1696         3          3       0   \n",
       "\n",
       "                                              amenities      address  area  \n",
       "36    Air conditioning Cooker Washing machine Fans R...   null Hills   1.0  \n",
       "653     Air conditioning Fans Generator Water reservoir       Teshie   1.0  \n",
       "1162  Air conditioning Cooker Washing machine Fans R...   East Legon   1.0  \n",
       "1696                                   Air Conditioning  North Legon   1.0  "
      ]
     },
     "execution_count": 61,
     "metadata": {},
     "output_type": "execute_result"
    }
   ],
   "source": [
    "# Checking for rows with value zero\n",
    "\n",
    "gh_housing[gh_housing[\"area\"] == 1]"
   ]
  },
  {
   "cell_type": "markdown",
   "metadata": {},
   "source": [
    "### Cleaning Address Column:"
   ]
  },
  {
   "cell_type": "code",
   "execution_count": 62,
   "metadata": {},
   "outputs": [
    {
     "data": {
      "text/plain": [
       "33"
      ]
     },
     "execution_count": 62,
     "metadata": {},
     "output_type": "execute_result"
    }
   ],
   "source": [
    "gh_housing.address.isna().sum()"
   ]
  },
  {
   "cell_type": "code",
   "execution_count": 63,
   "metadata": {
    "scrolled": true
   },
   "outputs": [
    {
     "data": {
      "text/plain": [
       "<bound method Series.unique of 0          null Area\n",
       "1         East Legon\n",
       "2         East Legon\n",
       "3         East Legon\n",
       "4          Ashongman\n",
       "            ...     \n",
       "2068      Bomso Road\n",
       "2069         Santasi\n",
       "2070          Kumasi\n",
       "2071           Kotwi\n",
       "2072    Adjiringanor\n",
       "Name: address, Length: 2042, dtype: object>"
      ]
     },
     "execution_count": 63,
     "metadata": {},
     "output_type": "execute_result"
    }
   ],
   "source": [
    "gh_housing.address.unique"
   ]
  },
  {
   "cell_type": "code",
   "execution_count": 64,
   "metadata": {},
   "outputs": [],
   "source": [
    "#Filling Null values of address column\n",
    "\n",
    "gh_housing[\"address\"].fillna(value = 'Accra', inplace = True)"
   ]
  },
  {
   "cell_type": "markdown",
   "metadata": {},
   "source": [
    "Missing values in the address column waas filled with \"Accra\" because majority of the houses in the dataset scraped are in the Greater Accra region."
   ]
  },
  {
   "cell_type": "code",
   "execution_count": 65,
   "metadata": {},
   "outputs": [
    {
     "data": {
      "text/plain": [
       "0"
      ]
     },
     "execution_count": 65,
     "metadata": {},
     "output_type": "execute_result"
    }
   ],
   "source": [
    "gh_housing.address.isna().sum()"
   ]
  },
  {
   "cell_type": "markdown",
   "metadata": {},
   "source": [
    "## TASK 3 : ANALYSIS AND VISUALIZATION\n",
    "\n",
    "### The goal of this task is to carry-out analysis with the help of Visualization Based on the Driving Question of\n",
    "\n",
    "### this Project."
   ]
  },
  {
   "cell_type": "code",
   "execution_count": 66,
   "metadata": {},
   "outputs": [
    {
     "data": {
      "text/html": [
       "<div>\n",
       "<style scoped>\n",
       "    .dataframe tbody tr th:only-of-type {\n",
       "        vertical-align: middle;\n",
       "    }\n",
       "\n",
       "    .dataframe tbody tr th {\n",
       "        vertical-align: top;\n",
       "    }\n",
       "\n",
       "    .dataframe thead th {\n",
       "        text-align: right;\n",
       "    }\n",
       "</style>\n",
       "<table border=\"1\" class=\"dataframe\">\n",
       "  <thead>\n",
       "    <tr style=\"text-align: right;\">\n",
       "      <th></th>\n",
       "      <th>count</th>\n",
       "      <th>mean</th>\n",
       "      <th>std</th>\n",
       "      <th>min</th>\n",
       "      <th>25%</th>\n",
       "      <th>50%</th>\n",
       "      <th>75%</th>\n",
       "      <th>max</th>\n",
       "    </tr>\n",
       "  </thead>\n",
       "  <tbody>\n",
       "    <tr>\n",
       "      <td>prices</td>\n",
       "      <td>2042.0</td>\n",
       "      <td>20138.412831</td>\n",
       "      <td>267513.567376</td>\n",
       "      <td>400.0</td>\n",
       "      <td>3500.0</td>\n",
       "      <td>8702.0</td>\n",
       "      <td>17244.0</td>\n",
       "      <td>11400000.0</td>\n",
       "    </tr>\n",
       "    <tr>\n",
       "      <td>commission</td>\n",
       "      <td>2042.0</td>\n",
       "      <td>7.041136</td>\n",
       "      <td>4.471947</td>\n",
       "      <td>0.0</td>\n",
       "      <td>0.0</td>\n",
       "      <td>10.0</td>\n",
       "      <td>10.0</td>\n",
       "      <td>10.0</td>\n",
       "    </tr>\n",
       "    <tr>\n",
       "      <td>bedrooms</td>\n",
       "      <td>2042.0</td>\n",
       "      <td>3.039667</td>\n",
       "      <td>1.352912</td>\n",
       "      <td>1.0</td>\n",
       "      <td>2.0</td>\n",
       "      <td>3.0</td>\n",
       "      <td>4.0</td>\n",
       "      <td>14.0</td>\n",
       "    </tr>\n",
       "    <tr>\n",
       "      <td>bathrooms</td>\n",
       "      <td>2042.0</td>\n",
       "      <td>3.241430</td>\n",
       "      <td>1.479564</td>\n",
       "      <td>1.0</td>\n",
       "      <td>2.0</td>\n",
       "      <td>3.0</td>\n",
       "      <td>4.0</td>\n",
       "      <td>15.0</td>\n",
       "    </tr>\n",
       "    <tr>\n",
       "      <td>garage</td>\n",
       "      <td>2042.0</td>\n",
       "      <td>3.123408</td>\n",
       "      <td>24.173946</td>\n",
       "      <td>0.0</td>\n",
       "      <td>0.0</td>\n",
       "      <td>1.0</td>\n",
       "      <td>3.0</td>\n",
       "      <td>1000.0</td>\n",
       "    </tr>\n",
       "    <tr>\n",
       "      <td>area</td>\n",
       "      <td>2042.0</td>\n",
       "      <td>626.556109</td>\n",
       "      <td>774.702599</td>\n",
       "      <td>1.0</td>\n",
       "      <td>220.0</td>\n",
       "      <td>500.0</td>\n",
       "      <td>800.0</td>\n",
       "      <td>12000.0</td>\n",
       "    </tr>\n",
       "  </tbody>\n",
       "</table>\n",
       "</div>"
      ],
      "text/plain": [
       "             count          mean            std    min     25%     50%  \\\n",
       "prices      2042.0  20138.412831  267513.567376  400.0  3500.0  8702.0   \n",
       "commission  2042.0      7.041136       4.471947    0.0     0.0    10.0   \n",
       "bedrooms    2042.0      3.039667       1.352912    1.0     2.0     3.0   \n",
       "bathrooms   2042.0      3.241430       1.479564    1.0     2.0     3.0   \n",
       "garage      2042.0      3.123408      24.173946    0.0     0.0     1.0   \n",
       "area        2042.0    626.556109     774.702599    1.0   220.0   500.0   \n",
       "\n",
       "                75%         max  \n",
       "prices      17244.0  11400000.0  \n",
       "commission     10.0        10.0  \n",
       "bedrooms        4.0        14.0  \n",
       "bathrooms       4.0        15.0  \n",
       "garage          3.0      1000.0  \n",
       "area          800.0     12000.0  "
      ]
     },
     "execution_count": 66,
     "metadata": {},
     "output_type": "execute_result"
    }
   ],
   "source": [
    "gh_housing.describe().transpose()"
   ]
  },
  {
   "cell_type": "code",
   "execution_count": 67,
   "metadata": {
    "scrolled": true
   },
   "outputs": [
    {
     "data": {
      "text/plain": [
       "(400, 100000)"
      ]
     },
     "execution_count": 67,
     "metadata": {},
     "output_type": "execute_result"
    },
    {
     "data": {
      "image/png": "[encoded data removed]",
      "text/plain": [
       "<Figure size 432x288 with 1 Axes>"
      ]
     },
     "metadata": {
      "needs_background": "light"
     },
     "output_type": "display_data"
    }
   ],
   "source": [
    "sns.boxplot(x=gh_housing.prices)\n",
    "plt.xlim(400, 100000)"
   ]
  },
  {
   "cell_type": "markdown",
   "metadata": {},
   "source": [
    "From the distribution of Prices of the houses uing the boxplot and summary Table above, we see that minimum price for rent is GH¢400 and 25% of the prices are below GH¢8702.00 and 75% are below GH¢17244.00 . These shows that there are extremely high prices above the said price. "
   ]
  },
  {
   "cell_type": "code",
   "execution_count": 68,
   "metadata": {},
   "outputs": [
    {
     "data": {
      "text/plain": [
       "(400, 100000)"
      ]
     },
     "execution_count": 68,
     "metadata": {},
     "output_type": "execute_result"
    },
    {
     "data": {
      "image/png": "[encoded data removed]",
      "text/plain": [
       "<Figure size 648x648 with 42 Axes>"
      ]
     },
     "metadata": {
      "needs_background": "light"
     },
     "output_type": "display_data"
    }
   ],
   "source": [
    "sns.pairplot(gh_housing, height = 1.5)\n",
    "plt.xlim(400, 100000)"
   ]
  },
  {
   "cell_type": "markdown",
   "metadata": {},
   "source": [
    "The pairplots above also brings out some relationaship between the variables involved. "
   ]
  },
  {
   "cell_type": "code",
   "execution_count": 69,
   "metadata": {},
   "outputs": [
    {
     "data": {
      "image/png": "[encoded data removed]",
      "text/plain": [
       "<Figure size 432x288 with 1 Axes>"
      ]
     },
     "metadata": {
      "needs_background": "light"
     },
     "output_type": "display_data"
    }
   ],
   "source": [
    "# Create text to use from amenities\n",
    "texts = \" \".join(amenities for amenities in gh_housing.amenities)\n",
    "\n",
    "# Create and generate a word cloud image:\n",
    "wordcloud = WordCloud(width=1000, height=600, margin=0, max_font_size=50).generate(texts)\n",
    "\n",
    "# Display the generated image:\n",
    "plt.imshow(wordcloud, interpolation='bilinear')\n",
    "plt.axis(\"off\")\n",
    "plt.show()"
   ]
  },
  {
   "cell_type": "markdown",
   "metadata": {},
   "source": [
    "The wordcloud of all amenities above shows the various amenities for the houses in Ghana, with the most common or important amenity being the **Air Conditioning** and **Water reservoir**. This shows most houses or apartment sampled have these amenities present."
   ]
  },
  {
   "cell_type": "code",
   "execution_count": 70,
   "metadata": {},
   "outputs": [
    {
     "data": {
      "text/plain": [
       "<wordcloud.wordcloud.WordCloud at 0x234ca1dcc08>"
      ]
     },
     "execution_count": 70,
     "metadata": {},
     "output_type": "execute_result"
    }
   ],
   "source": [
    "# Save the image in the img folder:\n",
    "\n",
    "wordcloud.to_file(\"img/common_amenities.png\")"
   ]
  },
  {
   "cell_type": "code",
   "execution_count": 71,
   "metadata": {},
   "outputs": [
    {
     "data": {
      "image/png": "[encoded data removed]",
      "text/plain": [
       "<Figure size 432x288 with 1 Axes>"
      ]
     },
     "metadata": {
      "needs_background": "light"
     },
     "output_type": "display_data"
    }
   ],
   "source": [
    "# Create text to use from amenities\n",
    "text_2 = \" \".join(address for address in gh_housing.address)\n",
    "\n",
    "# Create and generate a word cloud image:\n",
    "wordcloud = WordCloud(width=1000, height=600, margin=1, max_font_size=50,max_words = 100, background_color = 'black' ).generate(text_2)\n",
    "\n",
    "# Display the generated image:\n",
    "plt.imshow(wordcloud, interpolation='bilinear')\n",
    "plt.axis(\"off\")\n",
    "plt.show() "
   ]
  },
  {
   "cell_type": "markdown",
   "metadata": {},
   "source": [
    "It can be seen from the Wordcloud above that the most common or popular place that accomodation can be found are the **Cantonment** and the **East Legon**"
   ]
  },
  {
   "cell_type": "code",
   "execution_count": 72,
   "metadata": {},
   "outputs": [
    {
     "data": {
      "text/plain": [
       "<wordcloud.wordcloud.WordCloud at 0x234ca260708>"
      ]
     },
     "execution_count": 72,
     "metadata": {},
     "output_type": "execute_result"
    }
   ],
   "source": [
    "# Save the image in the img folder:\n",
    "\n",
    "wordcloud.to_file(\"img/addresses.png\")"
   ]
  },
  {
   "cell_type": "code",
   "execution_count": 73,
   "metadata": {},
   "outputs": [],
   "source": [
    "group = gh_housing.groupby(['prices', 'address'], sort = True) "
   ]
  },
  {
   "cell_type": "code",
   "execution_count": 74,
   "metadata": {},
   "outputs": [
    {
     "data": {
      "text/html": [
       "<div>\n",
       "<style scoped>\n",
       "    .dataframe tbody tr th:only-of-type {\n",
       "        vertical-align: middle;\n",
       "    }\n",
       "\n",
       "    .dataframe tbody tr th {\n",
       "        vertical-align: top;\n",
       "    }\n",
       "\n",
       "    .dataframe thead th {\n",
       "        text-align: right;\n",
       "    }\n",
       "</style>\n",
       "<table border=\"1\" class=\"dataframe\">\n",
       "  <thead>\n",
       "    <tr style=\"text-align: right;\">\n",
       "      <th></th>\n",
       "      <th></th>\n",
       "      <th>property_name</th>\n",
       "      <th>commission</th>\n",
       "      <th>bedrooms</th>\n",
       "      <th>bathrooms</th>\n",
       "      <th>garage</th>\n",
       "      <th>amenities</th>\n",
       "      <th>area</th>\n",
       "    </tr>\n",
       "    <tr>\n",
       "      <th>prices</th>\n",
       "      <th>address</th>\n",
       "      <th></th>\n",
       "      <th></th>\n",
       "      <th></th>\n",
       "      <th></th>\n",
       "      <th></th>\n",
       "      <th></th>\n",
       "      <th></th>\n",
       "    </tr>\n",
       "  </thead>\n",
       "  <tbody>\n",
       "    <tr>\n",
       "      <td>400</td>\n",
       "      <td>Dzorwulu</td>\n",
       "      <td>1 bedroom apartment for rent at Dzorwulu</td>\n",
       "      <td>10.0</td>\n",
       "      <td>1</td>\n",
       "      <td>1</td>\n",
       "      <td>0</td>\n",
       "      <td>Water Reservoir</td>\n",
       "      <td>217.734375</td>\n",
       "    </tr>\n",
       "    <tr>\n",
       "      <td>450</td>\n",
       "      <td>Kasoa</td>\n",
       "      <td>1 bedroom furnished apartment for rent at Kasoa</td>\n",
       "      <td>10.0</td>\n",
       "      <td>1</td>\n",
       "      <td>1</td>\n",
       "      <td>0</td>\n",
       "      <td>Air Conditioning</td>\n",
       "      <td>217.734375</td>\n",
       "    </tr>\n",
       "    <tr>\n",
       "      <td rowspan=\"5\" valign=\"top\">500</td>\n",
       "      <td>Kumasi</td>\n",
       "      <td>2 bedroom apartment for rent at South Suntreso...</td>\n",
       "      <td>10.0</td>\n",
       "      <td>2</td>\n",
       "      <td>1</td>\n",
       "      <td>0</td>\n",
       "      <td>Fans Water reservoir</td>\n",
       "      <td>499.968454</td>\n",
       "    </tr>\n",
       "    <tr>\n",
       "      <td>Dzorwulu</td>\n",
       "      <td>1 bedroom apartment for rent at Dzorwulu</td>\n",
       "      <td>10.0</td>\n",
       "      <td>1</td>\n",
       "      <td>1</td>\n",
       "      <td>0</td>\n",
       "      <td>Water Reservoir</td>\n",
       "      <td>217.734375</td>\n",
       "    </tr>\n",
       "    <tr>\n",
       "      <td>Haatso</td>\n",
       "      <td>1 bedroom apartment for rent at Haatso</td>\n",
       "      <td>10.0</td>\n",
       "      <td>1</td>\n",
       "      <td>1</td>\n",
       "      <td>2</td>\n",
       "      <td>Air Conditioning</td>\n",
       "      <td>543.000000</td>\n",
       "    </tr>\n",
       "    <tr>\n",
       "      <td>Osu</td>\n",
       "      <td>1 bedroom apartment for rent at Osu</td>\n",
       "      <td>10.0</td>\n",
       "      <td>1</td>\n",
       "      <td>1</td>\n",
       "      <td>0</td>\n",
       "      <td>Water Reservoir</td>\n",
       "      <td>217.734375</td>\n",
       "    </tr>\n",
       "    <tr>\n",
       "      <td>Tantra Hills</td>\n",
       "      <td>2 bedroom furnished apartment for rent at Tant...</td>\n",
       "      <td>10.0</td>\n",
       "      <td>2</td>\n",
       "      <td>1</td>\n",
       "      <td>28</td>\n",
       "      <td>Air conditioning Cooker Fans Refrigerator Micr...</td>\n",
       "      <td>210.000000</td>\n",
       "    </tr>\n",
       "    <tr>\n",
       "      <td>540</td>\n",
       "      <td>Dzorwulu</td>\n",
       "      <td>1 bedroom furnished apartment for rent at Dzor...</td>\n",
       "      <td>0.0</td>\n",
       "      <td>1</td>\n",
       "      <td>1</td>\n",
       "      <td>0</td>\n",
       "      <td>Air conditioning Cooker Washing machine Refrig...</td>\n",
       "      <td>217.734375</td>\n",
       "    </tr>\n",
       "    <tr>\n",
       "      <td rowspan=\"2\" valign=\"top\">544</td>\n",
       "      <td>Spintex</td>\n",
       "      <td>3 bedroom furnished house for rent at Spintex</td>\n",
       "      <td>0.0</td>\n",
       "      <td>3</td>\n",
       "      <td>3</td>\n",
       "      <td>0</td>\n",
       "      <td>Air conditioning Cooker Washing machine Refrig...</td>\n",
       "      <td>664.438944</td>\n",
       "    </tr>\n",
       "    <tr>\n",
       "      <td>Tse Addo</td>\n",
       "      <td>1 bedroom furnished apartment for rent at Tse ...</td>\n",
       "      <td>0.0</td>\n",
       "      <td>1</td>\n",
       "      <td>1</td>\n",
       "      <td>0</td>\n",
       "      <td>Air conditioning Cooker Washing machine Fans R...</td>\n",
       "      <td>217.734375</td>\n",
       "    </tr>\n",
       "  </tbody>\n",
       "</table>\n",
       "</div>"
      ],
      "text/plain": [
       "                                                         property_name  \\\n",
       "prices address                                                           \n",
       "400    Dzorwulu               1 bedroom apartment for rent at Dzorwulu   \n",
       "450    Kasoa           1 bedroom furnished apartment for rent at Kasoa   \n",
       "500     Kumasi       2 bedroom apartment for rent at South Suntreso...   \n",
       "       Dzorwulu               1 bedroom apartment for rent at Dzorwulu   \n",
       "       Haatso                   1 bedroom apartment for rent at Haatso   \n",
       "       Osu                         1 bedroom apartment for rent at Osu   \n",
       "       Tantra Hills  2 bedroom furnished apartment for rent at Tant...   \n",
       "540    Dzorwulu      1 bedroom furnished apartment for rent at Dzor...   \n",
       "544    Spintex           3 bedroom furnished house for rent at Spintex   \n",
       "       Tse Addo      1 bedroom furnished apartment for rent at Tse ...   \n",
       "\n",
       "                     commission  bedrooms  bathrooms  garage  \\\n",
       "prices address                                                 \n",
       "400    Dzorwulu            10.0         1          1       0   \n",
       "450    Kasoa               10.0         1          1       0   \n",
       "500     Kumasi             10.0         2          1       0   \n",
       "       Dzorwulu            10.0         1          1       0   \n",
       "       Haatso              10.0         1          1       2   \n",
       "       Osu                 10.0         1          1       0   \n",
       "       Tantra Hills        10.0         2          1      28   \n",
       "540    Dzorwulu             0.0         1          1       0   \n",
       "544    Spintex              0.0         3          3       0   \n",
       "       Tse Addo             0.0         1          1       0   \n",
       "\n",
       "                                                             amenities  \\\n",
       "prices address                                                           \n",
       "400    Dzorwulu                                        Water Reservoir   \n",
       "450    Kasoa                                          Air Conditioning   \n",
       "500     Kumasi                                    Fans Water reservoir   \n",
       "       Dzorwulu                                        Water Reservoir   \n",
       "       Haatso                                         Air Conditioning   \n",
       "       Osu                                             Water Reservoir   \n",
       "       Tantra Hills  Air conditioning Cooker Fans Refrigerator Micr...   \n",
       "540    Dzorwulu      Air conditioning Cooker Washing machine Refrig...   \n",
       "544    Spintex       Air conditioning Cooker Washing machine Refrig...   \n",
       "       Tse Addo      Air conditioning Cooker Washing machine Fans R...   \n",
       "\n",
       "                           area  \n",
       "prices address                   \n",
       "400    Dzorwulu      217.734375  \n",
       "450    Kasoa         217.734375  \n",
       "500     Kumasi       499.968454  \n",
       "       Dzorwulu      217.734375  \n",
       "       Haatso        543.000000  \n",
       "       Osu           217.734375  \n",
       "       Tantra Hills  210.000000  \n",
       "540    Dzorwulu      217.734375  \n",
       "544    Spintex       664.438944  \n",
       "       Tse Addo      217.734375  "
      ]
     },
     "execution_count": 74,
     "metadata": {},
     "output_type": "execute_result"
    }
   ],
   "source": [
    "group.first().head(10)"
   ]
  },
  {
   "cell_type": "markdown",
   "metadata": {},
   "source": [
    "This gives the locations, numbebr of bedrooms, and amenities to the cheapest houses as the prices have been sorted out from the minimum price to the highest per every location."
   ]
  },
  {
   "cell_type": "code",
   "execution_count": 87,
   "metadata": {
    "scrolled": true
   },
   "outputs": [
    {
     "data": {
      "text/html": [
       "<div>\n",
       "<style scoped>\n",
       "    .dataframe tbody tr th:only-of-type {\n",
       "        vertical-align: middle;\n",
       "    }\n",
       "\n",
       "    .dataframe tbody tr th {\n",
       "        vertical-align: top;\n",
       "    }\n",
       "\n",
       "    .dataframe thead th {\n",
       "        text-align: right;\n",
       "    }\n",
       "</style>\n",
       "<table border=\"1\" class=\"dataframe\">\n",
       "  <thead>\n",
       "    <tr style=\"text-align: right;\">\n",
       "      <th></th>\n",
       "      <th>address</th>\n",
       "      <th>prices</th>\n",
       "      <th>amenities</th>\n",
       "      <th>bedrooms</th>\n",
       "      <th>bathrooms</th>\n",
       "      <th>area</th>\n",
       "    </tr>\n",
       "  </thead>\n",
       "  <tbody>\n",
       "    <tr>\n",
       "      <td>580</td>\n",
       "      <td>East Legon</td>\n",
       "      <td>600</td>\n",
       "      <td>Air conditioning Cooker Washing machine Refrig...</td>\n",
       "      <td>1</td>\n",
       "      <td>1</td>\n",
       "      <td>40.000000</td>\n",
       "    </tr>\n",
       "    <tr>\n",
       "      <td>1828</td>\n",
       "      <td>East Legon</td>\n",
       "      <td>810</td>\n",
       "      <td>Air conditioning Cooker Washing machine Refrig...</td>\n",
       "      <td>2</td>\n",
       "      <td>2</td>\n",
       "      <td>499.968454</td>\n",
       "    </tr>\n",
       "    <tr>\n",
       "      <td>628</td>\n",
       "      <td>East Legon</td>\n",
       "      <td>850</td>\n",
       "      <td>Air Conditioning</td>\n",
       "      <td>1</td>\n",
       "      <td>1</td>\n",
       "      <td>35.000000</td>\n",
       "    </tr>\n",
       "    <tr>\n",
       "      <td>545</td>\n",
       "      <td>East Legon</td>\n",
       "      <td>900</td>\n",
       "      <td>Air conditioning Cooker Washing machine Fans R...</td>\n",
       "      <td>1</td>\n",
       "      <td>1</td>\n",
       "      <td>217.734375</td>\n",
       "    </tr>\n",
       "    <tr>\n",
       "      <td>114</td>\n",
       "      <td>East Legon</td>\n",
       "      <td>1000</td>\n",
       "      <td>Air conditioning Fans Internet Dstv Security s...</td>\n",
       "      <td>1</td>\n",
       "      <td>2</td>\n",
       "      <td>600.000000</td>\n",
       "    </tr>\n",
       "    <tr>\n",
       "      <td>258</td>\n",
       "      <td>East Legon</td>\n",
       "      <td>1000</td>\n",
       "      <td>Air Conditioning</td>\n",
       "      <td>1</td>\n",
       "      <td>1</td>\n",
       "      <td>36.000000</td>\n",
       "    </tr>\n",
       "    <tr>\n",
       "      <td>2020</td>\n",
       "      <td>East Legon</td>\n",
       "      <td>1000</td>\n",
       "      <td>Fans Garden Security service</td>\n",
       "      <td>1</td>\n",
       "      <td>1</td>\n",
       "      <td>60.000000</td>\n",
       "    </tr>\n",
       "    <tr>\n",
       "      <td>340</td>\n",
       "      <td>East Legon</td>\n",
       "      <td>1200</td>\n",
       "      <td>Water reservoir</td>\n",
       "      <td>2</td>\n",
       "      <td>2</td>\n",
       "      <td>499.968454</td>\n",
       "    </tr>\n",
       "    <tr>\n",
       "      <td>1222</td>\n",
       "      <td>East Legon</td>\n",
       "      <td>1200</td>\n",
       "      <td>Fans Garden</td>\n",
       "      <td>2</td>\n",
       "      <td>1</td>\n",
       "      <td>499.968454</td>\n",
       "    </tr>\n",
       "    <tr>\n",
       "      <td>1942</td>\n",
       "      <td>East Legon</td>\n",
       "      <td>1200</td>\n",
       "      <td>Air conditioning Cooker Washing machine Fans R...</td>\n",
       "      <td>1</td>\n",
       "      <td>1</td>\n",
       "      <td>60.000000</td>\n",
       "    </tr>\n",
       "  </tbody>\n",
       "</table>\n",
       "</div>"
      ],
      "text/plain": [
       "         address  prices                                          amenities  \\\n",
       "580   East Legon     600  Air conditioning Cooker Washing machine Refrig...   \n",
       "1828  East Legon     810  Air conditioning Cooker Washing machine Refrig...   \n",
       "628   East Legon     850                                   Air Conditioning   \n",
       "545   East Legon     900  Air conditioning Cooker Washing machine Fans R...   \n",
       "114   East Legon    1000  Air conditioning Fans Internet Dstv Security s...   \n",
       "258   East Legon    1000                                   Air Conditioning   \n",
       "2020  East Legon    1000                       Fans Garden Security service   \n",
       "340   East Legon    1200                                    Water reservoir   \n",
       "1222  East Legon    1200                                        Fans Garden   \n",
       "1942  East Legon    1200  Air conditioning Cooker Washing machine Fans R...   \n",
       "\n",
       "      bedrooms  bathrooms        area  \n",
       "580          1          1   40.000000  \n",
       "1828         2          2  499.968454  \n",
       "628          1          1   35.000000  \n",
       "545          1          1  217.734375  \n",
       "114          1          2  600.000000  \n",
       "258          1          1   36.000000  \n",
       "2020         1          1   60.000000  \n",
       "340          2          2  499.968454  \n",
       "1222         2          1  499.968454  \n",
       "1942         1          1   60.000000  "
      ]
     },
     "execution_count": 87,
     "metadata": {},
     "output_type": "execute_result"
    }
   ],
   "source": [
    "East_Legon = gh_housing[gh_housing['address'].str.contains('East Legon')] \\\n",
    "[['address','prices', 'amenities','bedrooms','bathrooms' ,'area']].sort_values('prices', ascending=True)\n",
    "East_Legon.head(10)"
   ]
  },
  {
   "cell_type": "markdown",
   "metadata": {},
   "source": [
    "Here we see that, the most common or available place for accommodation as see earlier and their respective prices and amenities available to meet a persons budget."
   ]
  },
  {
   "cell_type": "code",
   "execution_count": 89,
   "metadata": {},
   "outputs": [
    {
     "data": {
      "text/html": [
       "<div>\n",
       "<style scoped>\n",
       "    .dataframe tbody tr th:only-of-type {\n",
       "        vertical-align: middle;\n",
       "    }\n",
       "\n",
       "    .dataframe tbody tr th {\n",
       "        vertical-align: top;\n",
       "    }\n",
       "\n",
       "    .dataframe thead th {\n",
       "        text-align: right;\n",
       "    }\n",
       "</style>\n",
       "<table border=\"1\" class=\"dataframe\">\n",
       "  <thead>\n",
       "    <tr style=\"text-align: right;\">\n",
       "      <th></th>\n",
       "      <th>address</th>\n",
       "      <th>prices</th>\n",
       "      <th>amenities</th>\n",
       "      <th>bedrooms</th>\n",
       "      <th>bathrooms</th>\n",
       "      <th>area</th>\n",
       "    </tr>\n",
       "  </thead>\n",
       "  <tbody>\n",
       "    <tr>\n",
       "      <td>1938</td>\n",
       "      <td>Cantonments</td>\n",
       "      <td>979</td>\n",
       "      <td>Air conditioning Cooker Washing machine Fans R...</td>\n",
       "      <td>1</td>\n",
       "      <td>1</td>\n",
       "      <td>217.734375</td>\n",
       "    </tr>\n",
       "    <tr>\n",
       "      <td>87</td>\n",
       "      <td>Cantonments</td>\n",
       "      <td>980</td>\n",
       "      <td>Air conditioning Cooker Washing machine Refrig...</td>\n",
       "      <td>1</td>\n",
       "      <td>1</td>\n",
       "      <td>217.734375</td>\n",
       "    </tr>\n",
       "    <tr>\n",
       "      <td>1591</td>\n",
       "      <td>Cantonments</td>\n",
       "      <td>1026</td>\n",
       "      <td>Air conditioning Cooker Washing machine Refrig...</td>\n",
       "      <td>1</td>\n",
       "      <td>1</td>\n",
       "      <td>217.734375</td>\n",
       "    </tr>\n",
       "    <tr>\n",
       "      <td>611</td>\n",
       "      <td>Cantonments</td>\n",
       "      <td>1276</td>\n",
       "      <td>Air conditioning Cooker Washing machine Refrig...</td>\n",
       "      <td>2</td>\n",
       "      <td>2</td>\n",
       "      <td>499.968454</td>\n",
       "    </tr>\n",
       "    <tr>\n",
       "      <td>1257</td>\n",
       "      <td>Cantonment</td>\n",
       "      <td>1350</td>\n",
       "      <td>Air conditioning Cooker Washing machine Refrig...</td>\n",
       "      <td>2</td>\n",
       "      <td>2</td>\n",
       "      <td>499.968454</td>\n",
       "    </tr>\n",
       "    <tr>\n",
       "      <td>1757</td>\n",
       "      <td>Cantonments</td>\n",
       "      <td>1728</td>\n",
       "      <td>Air conditioning Washing machine Fans Refriger...</td>\n",
       "      <td>3</td>\n",
       "      <td>4</td>\n",
       "      <td>664.438944</td>\n",
       "    </tr>\n",
       "    <tr>\n",
       "      <td>15</td>\n",
       "      <td>Cantonments</td>\n",
       "      <td>1740</td>\n",
       "      <td>Air conditioning Cooker Washing machine Refrig...</td>\n",
       "      <td>3</td>\n",
       "      <td>3</td>\n",
       "      <td>664.438944</td>\n",
       "    </tr>\n",
       "    <tr>\n",
       "      <td>1521</td>\n",
       "      <td>Cantonments</td>\n",
       "      <td>5439</td>\n",
       "      <td>Air conditioning Cooker Washing machine Fans R...</td>\n",
       "      <td>1</td>\n",
       "      <td>2</td>\n",
       "      <td>120.000000</td>\n",
       "    </tr>\n",
       "    <tr>\n",
       "      <td>670</td>\n",
       "      <td>Cantonments</td>\n",
       "      <td>5500</td>\n",
       "      <td>Air conditioning Internet Dstv Garage Security...</td>\n",
       "      <td>5</td>\n",
       "      <td>6</td>\n",
       "      <td>1000.000000</td>\n",
       "    </tr>\n",
       "    <tr>\n",
       "      <td>1657</td>\n",
       "      <td>Cantonments</td>\n",
       "      <td>6527</td>\n",
       "      <td>Air conditioning Cooker Washing machine Fans R...</td>\n",
       "      <td>2</td>\n",
       "      <td>2</td>\n",
       "      <td>180.000000</td>\n",
       "    </tr>\n",
       "  </tbody>\n",
       "</table>\n",
       "</div>"
      ],
      "text/plain": [
       "          address  prices                                          amenities  \\\n",
       "1938  Cantonments     979  Air conditioning Cooker Washing machine Fans R...   \n",
       "87    Cantonments     980  Air conditioning Cooker Washing machine Refrig...   \n",
       "1591  Cantonments    1026  Air conditioning Cooker Washing machine Refrig...   \n",
       "611   Cantonments    1276  Air conditioning Cooker Washing machine Refrig...   \n",
       "1257   Cantonment    1350  Air conditioning Cooker Washing machine Refrig...   \n",
       "1757  Cantonments    1728  Air conditioning Washing machine Fans Refriger...   \n",
       "15    Cantonments    1740  Air conditioning Cooker Washing machine Refrig...   \n",
       "1521  Cantonments    5439  Air conditioning Cooker Washing machine Fans R...   \n",
       "670   Cantonments    5500  Air conditioning Internet Dstv Garage Security...   \n",
       "1657  Cantonments    6527  Air conditioning Cooker Washing machine Fans R...   \n",
       "\n",
       "      bedrooms  bathrooms         area  \n",
       "1938         1          1   217.734375  \n",
       "87           1          1   217.734375  \n",
       "1591         1          1   217.734375  \n",
       "611          2          2   499.968454  \n",
       "1257         2          2   499.968454  \n",
       "1757         3          4   664.438944  \n",
       "15           3          3   664.438944  \n",
       "1521         1          2   120.000000  \n",
       "670          5          6  1000.000000  \n",
       "1657         2          2   180.000000  "
      ]
     },
     "execution_count": 89,
     "metadata": {},
     "output_type": "execute_result"
    }
   ],
   "source": [
    "Cantonment = gh_housing[gh_housing['address'].str.contains('Cantonment')] \\\n",
    "[['address','prices', 'amenities', 'bedrooms','bathrooms' ,'area']].sort_values('prices', ascending= True)\n",
    "Cantonment.head(10)"
   ]
  },
  {
   "cell_type": "markdown",
   "metadata": {},
   "source": [
    "Cantonment which was also seen for having more available rooms can be seen to be having their respective prices and amenities based on the number of bedrooms and area of the entire house in general."
   ]
  },
  {
   "cell_type": "code",
   "execution_count": 83,
   "metadata": {},
   "outputs": [
    {
     "data": {
      "text/plain": [
       "Text(0.5, 1.0, 'HOUSES IN GH')"
      ]
     },
     "execution_count": 83,
     "metadata": {},
     "output_type": "execute_result"
    },
    {
     "data": {
      "image/png": "[encoded data removed]",
      "text/plain": [
       "<Figure size 432x288 with 1 Axes>"
      ]
     },
     "metadata": {
      "needs_background": "light"
     },
     "output_type": "display_data"
    }
   ],
   "source": [
    "# Histogram showing the each state and the impact of the violence. total impact = number of injuries + number of killings\n",
    "\n",
    "house = sns.countplot(x=gh_housing[\"bedrooms\"],data=gh_housing,order=gh_housing[\"bedrooms\"].value_counts().index)\n",
    "house.set_xticklabels(house.get_xticklabels(),rotation=90)\n",
    "house.set_title(\"HOUSES IN GH\")"
   ]
  },
  {
   "cell_type": "markdown",
   "metadata": {},
   "source": [
    "The above barplot shows aggregation of number of bedrooms for the houses available for rent. It can be seen that, **3-bedroom** houses are the most common apartment for rent, followed by **2-bedroom** houses"
   ]
  },
  {
   "cell_type": "code",
   "execution_count": 91,
   "metadata": {},
   "outputs": [],
   "source": [
    "locations = gh_housing.groupby(['bedrooms','address'],sort=True).mean().reset_index()"
   ]
  },
  {
   "cell_type": "code",
   "execution_count": 92,
   "metadata": {},
   "outputs": [],
   "source": [
    " bed_1= locations[locations.bedrooms==1].sort_values(by=['prices'])"
   ]
  },
  {
   "cell_type": "code",
   "execution_count": 97,
   "metadata": {},
   "outputs": [
    {
     "data": {
      "text/plain": [
       "<matplotlib.axes._subplots.AxesSubplot at 0x234c9b6f948>"
      ]
     },
     "execution_count": 97,
     "metadata": {},
     "output_type": "execute_result"
    },
    {
     "data": {
      "image/png": "[encoded data removed]",
      "text/plain": [
       "<Figure size 720x720 with 1 Axes>"
      ]
     },
     "metadata": {
      "needs_background": "light"
     },
     "output_type": "display_data"
    }
   ],
   "source": [
    "bed_1.plot.barh('address','prices',figsize=(10,10), color = \"green\")"
   ]
  },
  {
   "cell_type": "code",
   "execution_count": 99,
   "metadata": {},
   "outputs": [
    {
     "ename": "ValueError",
     "evalue": "The truth value of a Series is ambiguous. Use a.empty, a.bool(), a.item(), a.any() or a.all().",
     "output_type": "error",
     "traceback": [
      "\u001b[1;31m---------------------------------------------------------------------------\u001b[0m",
      "\u001b[1;31mValueError\u001b[0m                                Traceback (most recent call last)",
      "\u001b[1;32m<ipython-input-99-62e77857ff6f>\u001b[0m in \u001b[0;36m<module>\u001b[1;34m\u001b[0m\n\u001b[1;32m----> 1\u001b[1;33m \u001b[0mbed_2\u001b[0m\u001b[1;33m=\u001b[0m \u001b[0mlocations\u001b[0m\u001b[1;33m[\u001b[0m\u001b[0mlocations\u001b[0m\u001b[1;33m.\u001b[0m\u001b[0mbedrooms\u001b[0m\u001b[1;33m==\u001b[0m\u001b[1;36m3\u001b[0m \u001b[1;32mor\u001b[0m \u001b[0mlocations\u001b[0m\u001b[1;33m.\u001b[0m\u001b[0mbedrooms\u001b[0m\u001b[1;33m==\u001b[0m\u001b[1;36m4\u001b[0m\u001b[1;33m]\u001b[0m\u001b[1;33m.\u001b[0m\u001b[0msort_values\u001b[0m\u001b[1;33m(\u001b[0m\u001b[0mby\u001b[0m\u001b[1;33m=\u001b[0m\u001b[1;33m[\u001b[0m\u001b[1;34m'prices'\u001b[0m\u001b[1;33m]\u001b[0m\u001b[1;33m)\u001b[0m\u001b[1;33m\u001b[0m\u001b[1;33m\u001b[0m\u001b[0m\n\u001b[0m",
      "\u001b[1;32m~\\Anaconda3\\lib\\site-packages\\pandas\\core\\generic.py\u001b[0m in \u001b[0;36m__nonzero__\u001b[1;34m(self)\u001b[0m\n\u001b[0;32m   1553\u001b[0m             \u001b[1;34m\"The truth value of a {0} is ambiguous. \"\u001b[0m\u001b[1;33m\u001b[0m\u001b[1;33m\u001b[0m\u001b[0m\n\u001b[0;32m   1554\u001b[0m             \"Use a.empty, a.bool(), a.item(), a.any() or a.all().\".format(\n\u001b[1;32m-> 1555\u001b[1;33m                 \u001b[0mself\u001b[0m\u001b[1;33m.\u001b[0m\u001b[0m__class__\u001b[0m\u001b[1;33m.\u001b[0m\u001b[0m__name__\u001b[0m\u001b[1;33m\u001b[0m\u001b[1;33m\u001b[0m\u001b[0m\n\u001b[0m\u001b[0;32m   1556\u001b[0m             )\n\u001b[0;32m   1557\u001b[0m         )\n",
      "\u001b[1;31mValueError\u001b[0m: The truth value of a Series is ambiguous. Use a.empty, a.bool(), a.item(), a.any() or a.all()."
     ]
    }
   ],
   "source": [
    " bed_2 = locations[locations.bedrooms==3].sort_values(by=['prices'])"
   ]
  },
  {
   "cell_type": "code",
   "execution_count": null,
   "metadata": {},
   "outputs": [],
   "source": []
  }
 ],
 "metadata": {
  "kernelspec": {
   "display_name": "Python 3",
   "language": "python",
   "name": "python3"
  },
  "language_info": {
   "codemirror_mode": {
    "name": "ipython",
    "version": 3
   },
   "file_extension": ".py",
   "mimetype": "text/x-python",
   "name": "python",
   "nbconvert_exporter": "python",
   "pygments_lexer": "ipython3",
   "version": "3.7.4"
  }
 },
 "nbformat": 4,
 "nbformat_minor": 2
}
